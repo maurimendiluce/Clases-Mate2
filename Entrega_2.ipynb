{
  "nbformat": 4,
  "nbformat_minor": 0,
  "metadata": {
    "colab": {
      "provenance": [],
      "collapsed_sections": [],
      "include_colab_link": true
    },
    "kernelspec": {
      "name": "python3",
      "display_name": "Python 3"
    },
    "language_info": {
      "name": "python"
    }
  },
  "cells": [
    {
      "cell_type": "markdown",
      "metadata": {
        "id": "view-in-github",
        "colab_type": "text"
      },
      "source": [
        "<a href=\"https://colab.research.google.com/github/maurimendiluce/Clases-Mate2/blob/main/Entrega_2.ipynb\" target=\"_parent\"><img src=\"https://colab.research.google.com/assets/colab-badge.svg\" alt=\"Open In Colab\"/></a>"
      ]
    },
    {
      "cell_type": "markdown",
      "source": [
        "# Matemática II Biología - 2do. cuatrimestre 2022\n",
        "${\\textbf{Entrega  N° 2 (Práctica 2)}}$\n",
        "\n",
        "---------------------------------\n",
        "\n",
        "Subir el archivo en formato $\\textbf{Entrega2-Nombre-Apellido.ipynb}$\n",
        "\n",
        "Para este trabajo utilizaremos funciones como $\\texttt{log}$ y $\\texttt{exp}$, se pedirá graficar funciones y se trabajará con vectores. Importar los paquetes necesarios."
      ],
      "metadata": {
        "id": "kLzM1SvL4Xmg"
      }
    },
    {
      "cell_type": "code",
      "execution_count": null,
      "metadata": {
        "id": "ZMPEWeEe4WrD"
      },
      "outputs": [],
      "source": [
        "#importar los paquetes necesarios"
      ]
    },
    {
      "cell_type": "markdown",
      "source": [
        "**Ejercicio 1:**\n",
        "\n",
        "Siendo $x>0$, consideremos la ecuación $$\\frac{1}{x} = \\frac{\\log(x+1)}{x+1}$$\n",
        "El objetivo es identificar de forma aproximada las posibles soluciones.\n"
      ],
      "metadata": {
        "id": "dUz4Mb4S7FPZ"
      }
    },
    {
      "cell_type": "markdown",
      "source": [
        "1.   La ecuación puede entenderse como la intersección de los gráficos de dos funciones, cada una de ellas representada por las expresiones a cada lado de la igualdad. Grafique ambas funciones para identificar ubicación y cantidad de soluciones."
      ],
      "metadata": {
        "id": "L3x-u50WokGY"
      }
    },
    {
      "cell_type": "code",
      "source": [
        "##Graficar las funciones"
      ],
      "metadata": {
        "id": "Px1KOH2OISFu"
      },
      "execution_count": null,
      "outputs": []
    },
    {
      "cell_type": "markdown",
      "source": [
        "2.   Defina la función $f(x)=1+x^{-1}-\\log(x+1)$, cuyas raíces coinciden con las soluciones de la ecuación, y chequee graficando que su derivada y su segunda derivada cumplen las condiciones de Newton-Raphson para convergencia absoluta en $x>0$. En la definición de $f$, puede opcionalmente incluir un mensaje de error en caso de no satisfacerse las condiciones de dominio."
      ],
      "metadata": {
        "id": "W2tHT1NQotxN"
      }
    },
    {
      "cell_type": "code",
      "source": [
        "##Definir la función f que cumple lo pedido"
      ],
      "metadata": {
        "id": "_lwst9UJIZd-"
      },
      "execution_count": null,
      "outputs": []
    },
    {
      "cell_type": "markdown",
      "source": [
        "3.   Implemente un algoritmo que recibe dos parámetros $a$ y $n$, y que devuelve la aproximación de una raíz en el $n-$ésimo paso utilizando el método de bisección en el intervalo $(0,a)$ y la estimación del error cometido, o bien devuelve error o nada si el intervalo es incorrecto para aplicar bisección."
      ],
      "metadata": {
        "id": "ebIQ-n4mo5Et"
      }
    },
    {
      "cell_type": "code",
      "source": [
        "##Implemente aquí el algoritmo de bisección"
      ],
      "metadata": {
        "id": "lysO8WusIdgN"
      },
      "execution_count": null,
      "outputs": []
    },
    {
      "cell_type": "markdown",
      "source": [
        "4.   Implemente un algoritmo que recibe un valor inicial $x$ y un parámetro de tolerancia $\\texttt{tol}$, y devuelve $r$ y $N$, siendo $r$ la aproximación de una raíz utilizando el método de Newton-Raphson, de forma tal que $|f(r)| < \\texttt{tol}$, y $N$ la cantidad de pasos realizados."
      ],
      "metadata": {
        "id": "r4dc-HyFo-pE"
      }
    },
    {
      "cell_type": "code",
      "source": [
        "##Implemente aquí el algoritmo de Newton-Raphson"
      ],
      "metadata": {
        "id": "NrlOu1ssnaCn"
      },
      "execution_count": null,
      "outputs": []
    },
    {
      "cell_type": "markdown",
      "source": [
        "**Ejercicio 2:**\n",
        "\n",
        "Utilizar el método de Punto Fijo para aproximar una posible solución del siguiente sistema de ecuaciones no lineales:\n",
        "\n",
        "$$\\left\\lbrace\\begin{array}\n",
        "&\\frac{(x-3)^2}{5}+\\frac{y^2}{3}&=&x \\\\\n",
        "e^{-x} &=&y\n",
        "\\end{array}\\right.$$\n"
      ],
      "metadata": {
        "id": "_Ae0dJppG36Y"
      }
    },
    {
      "cell_type": "markdown",
      "source": [
        "1.   Implementar el método de punto fijo con un algoritmo que tome tres parámetros, los dos primeros representando los valores iniciales de cada variable y el tercero que indique la cantidad de pasos a realizar, y que devuelve una potencial solución aproximada para el sistema. El algoritmo también debe imprimir un mensaje con los valores encontrados en cada paso, para su análisis posterior."
      ],
      "metadata": {
        "id": "HlRdLRz3vBDn"
      }
    },
    {
      "cell_type": "code",
      "source": [
        "##Implementar el algoritmo de punto fijo\n",
        "##(puede separar el algoritmo en dos funciones, una la que define el paso y otra que define la iteración)"
      ],
      "metadata": {
        "id": "gRI8ZQqWOIi0"
      },
      "execution_count": null,
      "outputs": []
    },
    {
      "cell_type": "markdown",
      "source": [
        "2.   Ejecutar el algoritmo en los puntos $(3,0)$ y $(7,5)$ para una cantidad de pasos adecuada. Analizar qué punto sirve para efectivamente tener una posible solución aproximada."
      ],
      "metadata": {
        "id": "0eF7WbKxvzEc"
      }
    },
    {
      "cell_type": "code",
      "source": [
        "##Ejecutar con el punto inicial (3,0)\n",
        "##Chequear si el resultado de la ejecución es efectivamente solución."
      ],
      "metadata": {
        "id": "cb0WMJIFOOz8"
      },
      "execution_count": null,
      "outputs": []
    },
    {
      "cell_type": "code",
      "source": [
        "##Ejecutar con el punto inicial (7,5)\n",
        "##Chequear si el resultado de la ejecución es efectivamente solución."
      ],
      "metadata": {
        "id": "78AS0XF1OZeh"
      },
      "execution_count": null,
      "outputs": []
    },
    {
      "cell_type": "markdown",
      "source": [
        "**Ejercicio 3:** (Ejercicio 2 de la Guia N°3)\n",
        "\n",
        "Graficar simultáneamente las soluciones numéricas que se obtienen del problema de valores iniciales\n",
        "$$\\left\\lbrace\\begin{array}\n",
        "&x'(t)&=&(x(t)−5).(\\cos^2\n",
        "(t) − 0.5) \\\\\n",
        "x(0) &=&k\n",
        "\\end{array}\\right.$$\n",
        "al utilizar el método de Euler con paso $h = 0.01$ para $k = 0,1,...,10$ y $t_F = 20$."
      ],
      "metadata": {
        "id": "v3ycvKRpPOXC"
      }
    },
    {
      "cell_type": "code",
      "source": [
        "## Aplicar el método de Euler"
      ],
      "metadata": {
        "id": "OKNIk9liM4uZ"
      },
      "execution_count": null,
      "outputs": []
    },
    {
      "cell_type": "code",
      "source": [
        "## Graficar soluciones numéricas"
      ],
      "metadata": {
        "id": "MykbVvoXNJOK"
      },
      "execution_count": null,
      "outputs": []
    }
  ]
}