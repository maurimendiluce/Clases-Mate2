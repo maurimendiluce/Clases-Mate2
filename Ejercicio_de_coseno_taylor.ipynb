{
  "nbformat": 4,
  "nbformat_minor": 0,
  "metadata": {
    "colab": {
      "provenance": [],
      "include_colab_link": true
    },
    "kernelspec": {
      "name": "python3",
      "display_name": "Python 3"
    },
    "language_info": {
      "name": "python"
    }
  },
  "cells": [
    {
      "cell_type": "markdown",
      "metadata": {
        "id": "view-in-github",
        "colab_type": "text"
      },
      "source": [
        "<a href=\"https://colab.research.google.com/github/maurimendiluce/Clases-Mate2/blob/main/Ejercicio_de_coseno_taylor.ipynb\" target=\"_parent\"><img src=\"https://colab.research.google.com/assets/colab-badge.svg\" alt=\"Open In Colab\"/></a>"
      ]
    },
    {
      "cell_type": "markdown",
      "source": [],
      "metadata": {
        "id": "hoMtlO-oZU-0"
      }
    },
    {
      "cell_type": "markdown",
      "source": [
        "**Ejercicio:** Aproximar $cos(0.2)$ usando su polinomio de Taylor de orden $n$ centrado en $x_0=0$ y ver que pasa con el error para distintos valores de $n$, donde $n$ es el orden del polinomio y comparar luego con el valor de $math.cos(0.2)$\n",
        "Sugerencia: modificar el código visto de para calcular sen(0.1)\n",
        "\n",
        "\n"
      ],
      "metadata": {
        "id": "eoWTmHr2Ic0K"
      }
    },
    {
      "cell_type": "code",
      "source": [
        "### \n",
        "import math\n",
        "import numpy as np\n",
        "\n",
        "n=10\n",
        "p=0\n",
        "x=0.1\n",
        "for i in range(1,n+1,2):\n",
        "  p=p+(-1)**((i-1)/2)*(x**i)/math.factorial(i)\n",
        "\n",
        "print(\"El valor aprox es \",p)\n",
        "print(math.sin(0.1))\n",
        "print(\"El error es:\",np.abs(p-math.sin(0.1)))\n",
        "print(\"Cota del error:\",(1/math.factorial(n+1)*(0.1)**(n+1)))"
      ],
      "metadata": {
        "colab": {
          "base_uri": "https://localhost:8080/"
        },
        "id": "YF0XRcdGaV_R",
        "outputId": "6d0b7ebc-18b6-47f7-8fa7-f2a0c009c2c0"
      },
      "execution_count": null,
      "outputs": [
        {
          "output_type": "stream",
          "name": "stdout",
          "text": [
            "0.09983341664682817\n",
            "0.09983341664682815\n",
            "El error es: 1.3877787807814457e-17\n",
            "Cota del error: 2.5052108385441733e-19\n"
          ]
        }
      ]
    }
  ]
}