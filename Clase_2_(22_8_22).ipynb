{
  "nbformat": 4,
  "nbformat_minor": 0,
  "metadata": {
    "colab": {
      "provenance": [],
      "include_colab_link": true
    },
    "kernelspec": {
      "name": "python3",
      "display_name": "Python 3"
    },
    "language_info": {
      "name": "python"
    }
  },
  "cells": [
    {
      "cell_type": "markdown",
      "metadata": {
        "id": "view-in-github",
        "colab_type": "text"
      },
      "source": [
        "<a href=\"https://colab.research.google.com/github/maurimendiluce/Clases-Mate2/blob/main/Clase_2_(22_8_22).ipynb\" target=\"_parent\"><img src=\"https://colab.research.google.com/assets/colab-badge.svg\" alt=\"Open In Colab\"/></a>"
      ]
    },
    {
      "cell_type": "markdown",
      "source": [
        "#Introducción a Python"
      ],
      "metadata": {
        "id": "8ohxZdkZWIJU"
      }
    },
    {
      "cell_type": "markdown",
      "metadata": {
        "id": "N5A5j7aN6jgd"
      },
      "source": [
        "##Variables, Tipos de Datos Básicos y Estructuras de Control"
      ]
    },
    {
      "cell_type": "markdown",
      "source": [
        "Existen distintos tipos de variables:\n",
        "- int: entero\n",
        "- float: punto flotante\n",
        "- string: cadena de caracteres\n",
        "- bool: booleano, 0, 1, True o False\n",
        "\n",
        "Y estructuras de datos, como:\n",
        "  - list: lista de elementos (de cualquier tipo, incluida otra lista)\n",
        "  - dict: \"diccionario\", conjunto de pares llave:valor\n",
        "  "
      ],
      "metadata": {
        "id": "UTiu91E6EwD7"
      }
    },
    {
      "cell_type": "markdown",
      "source": [
        "**Comandos Generales:**\n",
        "\n",
        "*   \"=\": es para asignar el valor de un tipo a una variable.\n",
        "*   suma (+), producto (∗), división (/), potenciación (∗∗).\n",
        "*   Para comparar: igual (==), distinto (!=), menor o igual (<=)....\n",
        "*   Para valores de verdad: y (and), o (or), no y (not).\n",
        "*   Para texto: concatenar (+), mostrar (print()).\n",
        "\n",
        "print() también sirve para que imprima tanto texto como resultados que queremos ver, ya veremos como usarlo para que la respuesta quede de una forma \"linda\"."
      ],
      "metadata": {
        "id": "yn4tk1onCamM"
      }
    },
    {
      "cell_type": "markdown",
      "source": [
        "Hagamos primero algunas cuentas simples"
      ],
      "metadata": {
        "id": "wrKoqzghZ2yw"
      }
    },
    {
      "cell_type": "markdown",
      "source": [
        "\n",
        "\n",
        "*   Calcular $5+3.2\\times 4$\n",
        "*   Realizar la siguiente asignación: $a=10$, y calcular \n",
        "\n",
        "1.   $b=4+a$\n",
        "2.   $a\\times 5$\n",
        "3.   $c=b^2$\n",
        "4.   $d=c-85$\n",
        "5.   $d=c-85$\n",
        "6.   $e=d+a$ \n",
        "7.   $f=d-a$ \n",
        "8.   $g=f+e$ \n",
        "9.   $h=g-b$\n",
        "\n",
        "\n"
      ],
      "metadata": {
        "id": "KtRT8hgAaRBo"
      }
    },
    {
      "cell_type": "code",
      "source": [],
      "metadata": {
        "id": "YAEfJLdaZ6dR"
      },
      "execution_count": null,
      "outputs": []
    },
    {
      "cell_type": "code",
      "source": [],
      "metadata": {
        "id": "TAM30SdLb24Z"
      },
      "execution_count": null,
      "outputs": []
    },
    {
      "cell_type": "code",
      "source": [
        "#usar print\n",
        "#usar comando type"
      ],
      "metadata": {
        "id": "ba7icrbGb-pK"
      },
      "execution_count": null,
      "outputs": []
    },
    {
      "cell_type": "markdown",
      "source": [
        "##Cadenas de Caracteres (strings)"
      ],
      "metadata": {
        "id": "GDpGP9AKef0u"
      }
    },
    {
      "cell_type": "code",
      "execution_count": null,
      "metadata": {
        "id": "FSZUP_nH6jgm"
      },
      "outputs": [],
      "source": [
        "A = \"Hola \"\n",
        "B = \"Mundo!\"\n",
        "print(A)\n",
        "print(B)\n",
        "print(A + B) #puedo sumar strings"
      ]
    },
    {
      "cell_type": "code",
      "source": [
        "print(\"Hola\"+6)"
      ],
      "metadata": {
        "id": "0p6W6LmZe5Sz"
      },
      "execution_count": null,
      "outputs": []
    },
    {
      "cell_type": "code",
      "source": [
        "#usar type y convertir a string con 'str()'"
      ],
      "metadata": {
        "id": "ygd2Z3DjfBNf"
      },
      "execution_count": null,
      "outputs": []
    },
    {
      "cell_type": "code",
      "source": [
        "print(\"Hola\", 6)"
      ],
      "metadata": {
        "id": "L4Y9OecLfRRV"
      },
      "execution_count": null,
      "outputs": []
    },
    {
      "cell_type": "markdown",
      "source": [
        "##Booleanos"
      ],
      "metadata": {
        "id": "aQDmSoNRfc7K"
      }
    },
    {
      "cell_type": "code",
      "execution_count": null,
      "metadata": {
        "id": "xPzLqZVK6jgq",
        "colab": {
          "base_uri": "https://localhost:8080/"
        },
        "outputId": "4548da5c-36ba-40f4-9a03-cc58b11854eb"
      },
      "outputs": [
        {
          "output_type": "stream",
          "name": "stdout",
          "text": [
            "True\n",
            "False\n",
            "False\n"
          ]
        }
      ],
      "source": [
        "a = True\n",
        "b = False\n",
        "c = 5 > 3\n",
        "d = 1 > 2\n",
        "print(c)\n",
        "print(c and d)\n",
        "print(b and d)"
      ]
    },
    {
      "cell_type": "code",
      "source": [
        "print(\"palabra\" == \"palabra\")\n",
        "print(\"otras palabras\" != \"otras palabras\") "
      ],
      "metadata": {
        "id": "akDABslglOXa"
      },
      "execution_count": null,
      "outputs": []
    },
    {
      "cell_type": "markdown",
      "source": [
        "##For loop"
      ],
      "metadata": {
        "id": "34DpCZEElh3h"
      }
    },
    {
      "cell_type": "code",
      "execution_count": null,
      "metadata": {
        "id": "waqa8xca6jgs"
      },
      "outputs": [],
      "source": [
        "for i in range(10):\n",
        "    print(i)"
      ]
    },
    {
      "cell_type": "code",
      "execution_count": null,
      "metadata": {
        "id": "xp6Qkx-O6jgu"
      },
      "outputs": [],
      "source": [
        "for i in range(2,14,2):\n",
        "    print(i)"
      ]
    },
    {
      "cell_type": "code",
      "execution_count": null,
      "metadata": {
        "id": "ELwqT62C6jgv"
      },
      "outputs": [],
      "source": [
        "for i in range(13,2,-1):\n",
        "    print(i)"
      ]
    },
    {
      "cell_type": "markdown",
      "source": [
        "**Ejemplo:** Sumar los números naturales del 0 al 100. $$\\sum_{i=0}^{100}i $$"
      ],
      "metadata": {
        "id": "Prm8P0WGonUo"
      }
    },
    {
      "cell_type": "code",
      "source": [
        "suma = 0\n",
        "for i in range(1,101):\n",
        "  suma=suma+i\n",
        "\n",
        "print(suma)"
      ],
      "metadata": {
        "id": "wCLvHs5Zo3WS"
      },
      "execution_count": null,
      "outputs": []
    },
    {
      "cell_type": "markdown",
      "source": [
        "**Ejercicio**: Dado un $N$ natural calcular $$\\sum_{i=1}^{N}\\frac{1}{i^2}$$"
      ],
      "metadata": {
        "id": "2Vvx_MyADfzD"
      }
    },
    {
      "cell_type": "code",
      "source": [
        "###\n",
        "N=10\n",
        "\n",
        "\n",
        "\n",
        "print()"
      ],
      "metadata": {
        "id": "6Ue78DfpEWoe"
      },
      "execution_count": null,
      "outputs": []
    },
    {
      "cell_type": "markdown",
      "source": [
        "**Ejercicio**: Calcular $n!$ para algún $n$ dado."
      ],
      "metadata": {
        "id": "8MirnnVgDKti"
      }
    },
    {
      "cell_type": "code",
      "source": [
        "#####"
      ],
      "metadata": {
        "id": "IttvczVBEnks"
      },
      "execution_count": null,
      "outputs": []
    },
    {
      "cell_type": "markdown",
      "source": [
        "#Importando Paquetes"
      ],
      "metadata": {
        "id": "Ijyr78SYpx5S"
      }
    },
    {
      "cell_type": "markdown",
      "source": [
        "Python tiene una gran cantidad de librerias/paquetes que nos facilitan mucho la implementación de los programas que querramos hacer. Por ejemplo, a lo largo del curso usaremos librerias para poder graficar, para usar funciones matemáticas conocidas, entre otras. \n",
        "\n"
      ],
      "metadata": {
        "id": "S9BbjY6Oqou1"
      }
    },
    {
      "cell_type": "code",
      "source": [
        "import math"
      ],
      "metadata": {
        "id": "X7V0ppLfqqC5"
      },
      "execution_count": null,
      "outputs": []
    },
    {
      "cell_type": "code",
      "source": [
        "help('math')"
      ],
      "metadata": {
        "id": "JCST1yBJqtop"
      },
      "execution_count": null,
      "outputs": []
    },
    {
      "cell_type": "code",
      "source": [
        "print(math.cos(0.5))\n",
        "print(math.pi)\n",
        "print(math.factorial(5))"
      ],
      "metadata": {
        "id": "ZNOXqOnsq-w2"
      },
      "execution_count": null,
      "outputs": []
    },
    {
      "cell_type": "code",
      "source": [
        "import numpy as np"
      ],
      "metadata": {
        "id": "0D9IKUkMrUTd"
      },
      "execution_count": null,
      "outputs": []
    },
    {
      "cell_type": "code",
      "source": [
        "help('numpy')"
      ],
      "metadata": {
        "id": "BHJWulNisi6_"
      },
      "execution_count": null,
      "outputs": []
    },
    {
      "cell_type": "code",
      "execution_count": null,
      "metadata": {
        "id": "XNlh06LZYMHm",
        "colab": {
          "base_uri": "https://localhost:8080/"
        },
        "outputId": "ef24a227-002b-449e-9b13-0e405e2116c4"
      },
      "outputs": [
        {
          "output_type": "stream",
          "name": "stdout",
          "text": [
            "[1 2 3]\n",
            "[2 3 4]\n",
            "[2 4 6]\n",
            "[1 4 9]\n",
            "1\n"
          ]
        }
      ],
      "source": [
        "a = np.array([1, 2, 3])\n",
        "print(a)\n",
        "print(a+1)\n",
        "print(a*2)\n",
        "print(a**2)\n",
        "print(a[0])\n",
        "#print(a[1])\n",
        "#print(a[2])"
      ]
    },
    {
      "cell_type": "code",
      "source": [
        "a=[1,2,3]\n",
        "print(a)\n",
        "#a.append(4)\n",
        "#print(a)"
      ],
      "metadata": {
        "id": "6lnc6TVFEypj",
        "colab": {
          "base_uri": "https://localhost:8080/"
        },
        "outputId": "f06c7cee-98f9-4973-c45e-e9ac0b3dbbd5"
      },
      "execution_count": null,
      "outputs": [
        {
          "output_type": "stream",
          "name": "stdout",
          "text": [
            "[1, 2, 3]\n"
          ]
        }
      ]
    },
    {
      "cell_type": "code",
      "source": [
        "x=np.linspace(0,1,10)\n",
        "print(\"vector x :\",x)\n",
        "y=np.linspace(0,1,10)\n",
        "print(\"y:\",y)"
      ],
      "metadata": {
        "id": "aSRqJHaWtHBu",
        "colab": {
          "base_uri": "https://localhost:8080/"
        },
        "outputId": "4bee0de1-33d2-47ed-a529-ff63d9b52fa5"
      },
      "execution_count": null,
      "outputs": [
        {
          "output_type": "stream",
          "name": "stdout",
          "text": [
            "vector x : [0.         0.11111111 0.22222222 0.33333333 0.44444444 0.55555556\n",
            " 0.66666667 0.77777778 0.88888889 1.        ]\n",
            "y: [0.         0.11111111 0.22222222 0.33333333 0.44444444 0.55555556\n",
            " 0.66666667 0.77777778 0.88888889 1.        ]\n"
          ]
        }
      ]
    },
    {
      "cell_type": "code",
      "source": [
        "import matplotlib.pyplot as plt"
      ],
      "metadata": {
        "id": "1_qeBJAWt2mw"
      },
      "execution_count": null,
      "outputs": []
    },
    {
      "cell_type": "code",
      "source": [
        "x=np.linspace(-10,10,100)\n",
        "y=np.linspace(-1,1,100)\n",
        "#y=np.abs(x)\n",
        "plt.plot(x,y)"
      ],
      "metadata": {
        "id": "Z31avkCDt_-l",
        "colab": {
          "base_uri": "https://localhost:8080/",
          "height": 282
        },
        "outputId": "5b34fcac-d0af-4e4c-bb83-cf9edc9c9434"
      },
      "execution_count": null,
      "outputs": [
        {
          "output_type": "execute_result",
          "data": {
            "text/plain": [
              "[<matplotlib.lines.Line2D at 0x7f8a6ec8e110>]"
            ]
          },
          "metadata": {},
          "execution_count": 16
        },
        {
          "output_type": "display_data",
          "data": {
            "text/plain": [
              "<Figure size 432x288 with 1 Axes>"
            ],
            "image/png": "[encoded data removed]"
          },
          "metadata": {
            "needs_background": "light"
          }
        }
      ]
    },
    {
      "cell_type": "code",
      "source": [
        "print('Este código plotea una funcion tipo cos(x).(x^n-x^m+x) para el n que le digas, en el intervalo que le digas [I,D] ')\n",
        "\n",
        "n=int(input(\"Ingresa un número n de la potencia:  \"))\n",
        "m=int(input(\"Ingresa un número m de la potencia:  \"))\n",
        "I=int(input(\"Ingresa margen I:  \"))\n",
        "D=int(input(\"Ingresa margen D:  \"))\n",
        "\n",
        "x = np.arange(I,D,0.1)\n",
        "print(x)\n",
        "y = np.cos(x)*(x**n-x**m+x)\n",
        "\n",
        "plt.plot(x,y)\n",
        "\n",
        "plt.xlabel(f'Intervalo [{I},{D}]')\n",
        "plt.ylabel('Valor de $f(x)$')\n",
        "plt.title(f'Gráfico de la Función $f(x)= cos(x).(x^{n}-x^{m}+x)$')\n",
        "\n",
        "#plt.show()"
      ],
      "metadata": {
        "id": "t638UXudIumY",
        "colab": {
          "base_uri": "https://localhost:8080/",
          "height": 455
        },
        "outputId": "0dc39008-ded6-471f-bca8-8d6b496d2fcd"
      },
      "execution_count": null,
      "outputs": [
        {
          "output_type": "stream",
          "name": "stdout",
          "text": [
            "Este código plotea una funcion tipo cos(x).(x^n-x^m+x) para el n que le digas, en el intervalo que le digas [I,D] \n",
            "Ingresa un número n de la potencia:  2\n",
            "Ingresa un número m de la potencia:  3\n",
            "Ingresa margen I:  0\n",
            "Ingresa margen D:  4\n",
            "[0.  0.1 0.2 0.3 0.4 0.5 0.6 0.7 0.8 0.9 1.  1.1 1.2 1.3 1.4 1.5 1.6 1.7\n",
            " 1.8 1.9 2.  2.1 2.2 2.3 2.4 2.5 2.6 2.7 2.8 2.9 3.  3.1 3.2 3.3 3.4 3.5\n",
            " 3.6 3.7 3.8 3.9]\n"
          ]
        },
        {
          "output_type": "execute_result",
          "data": {
            "text/plain": [
              "Text(0.5, 1.0, 'Gráfico de la Función $f(x)= cos(x).(x^2-x^3+x)$')"
            ]
          },
          "metadata": {},
          "execution_count": 19
        },
        {
          "output_type": "display_data",
          "data": {
            "text/plain": [
              "<Figure size 432x288 with 1 Axes>"
            ],
            "image/png": "[encoded data removed]"
          },
          "metadata": {
            "needs_background": "light"
          }
        }
      ]
    },
    {
      "cell_type": "markdown",
      "source": [
        "Ahora tratemos de usar lo visto para calcular Taylor"
      ],
      "metadata": {
        "id": "v_63Iel7vJxH"
      }
    },
    {
      "cell_type": "markdown",
      "source": [
        "Si queremos aproximar el valor de $e$, por ejemplo podemos calcular como es el polinomio de taylor de $f(x)=e^x$ y evaluar en $x=1$. Recordemos que en este caso el polinomio centrado en $x_0=0$ está dado por: $$P(x)=1+x+\\frac{1}{2!}x^2+\\frac{1}{3!}x^3...$$"
      ],
      "metadata": {
        "id": "1xtGE1RKrWUz"
      }
    },
    {
      "cell_type": "code",
      "execution_count": null,
      "metadata": {
        "id": "3U7jqdXoqZR2",
        "colab": {
          "base_uri": "https://localhost:8080/"
        },
        "outputId": "4ef6cee7-09ca-4b51-adf0-1a660a414d8c"
      },
      "outputs": [
        {
          "output_type": "stream",
          "name": "stdout",
          "text": [
            "2.7182818011463845\n",
            "2.718281828459045\n",
            "error: 2.7312660577649694e-08\n",
            "cota del error: 6.809869098873269e-08\n",
            "True\n"
          ]
        }
      ],
      "source": [
        "# Hacemos Taylor para obtener un valor aproximado de e \n",
        "# (evaluando el polinomio de Taylor de f(x) = e^x en x = 1)\n",
        "p = 1.0\n",
        "for i in range(1,11): #lo hacemos hasta orden 10\n",
        "    p = p + 1/math.factorial(i)\n",
        "print(p)\n",
        "print(math.e)\n",
        "#error \n",
        "print(\"error:\",np.abs(math.e-p))\n",
        "print(\"cota del error:\",math.e/math.factorial(11))\n",
        "#print(np.abs(math.e-p)<math.e/math.factorial(11))"
      ]
    },
    {
      "cell_type": "markdown",
      "source": [
        "Si quiero el polinomio evaluado en $x=0.2$. ¿Cómo lo hago? Agregar ademas una entrada que me permita elegir el orden que quiera."
      ],
      "metadata": {
        "id": "h5NAK34GwX30"
      }
    },
    {
      "cell_type": "code",
      "source": [
        "#Completar"
      ],
      "metadata": {
        "id": "oQV4iI7kwW4H"
      },
      "execution_count": null,
      "outputs": []
    },
    {
      "cell_type": "markdown",
      "source": [
        "Ahora queremos ver que pasa al evaluar cerca de $x_0$ y la relación con la potencia del polinomio, ¿que sucede si estoy lejos de $x_0$?"
      ],
      "metadata": {
        "id": "E3s9pUSFw0Vh"
      }
    },
    {
      "cell_type": "code",
      "source": [
        "#probar númericamente"
      ],
      "metadata": {
        "id": "H-j4_Z1F-g4p"
      },
      "execution_count": null,
      "outputs": []
    },
    {
      "cell_type": "markdown",
      "source": [
        "Recordemos que la expresión del Resto o de error está dada por: $$R(x)=\\frac{f^{n+1}(\\xi)}{(n+1)!}(x-x_0)^{n+1}.$$ Por ejemplo para estimar el error de evaluar $\\cos(20)$, al acotar se tiene que $$|R(20)| \\leq \\frac{1}{(n+1)!}x^{n+1}.$$"
      ],
      "metadata": {
        "id": "sK7TWJadALRY"
      }
    },
    {
      "cell_type": "markdown",
      "source": [
        "**Ejercicio:** Queremos aproximar $sen(0.1)$. Usar el polinomio de Taylor centrado en $x_0=0$ y ver que pasa con el error para distintos valores de $n$, donde $n$ es el orden del polinomio."
      ],
      "metadata": {
        "id": "eoWTmHr2Ic0K"
      }
    },
    {
      "cell_type": "code",
      "source": [
        "#p(x) = x - x^3/3! + x^5/5! + ...\n",
        "####\n",
        "n=5\n",
        "p=0\n",
        "x=0.01\n",
        "for i in range(1,n+1,2):\n",
        "  p=p+(-1)**((i-1)/2)*(x**i)/math.factorial(i)\n",
        "\n",
        "print(p)\n",
        "print(math.sin(x))\n",
        "print(\"El error es:\",np.abs(p-math.sin(x)))\n",
        "print(\"Cota del error:\",(1/math.factorial(n+1)*(x)**(n+1)))"
      ],
      "metadata": {
        "id": "Ob5CM_ZC9fgH",
        "outputId": "9d09dcbe-e416-4e67-9e1e-1a6884b5a4ba",
        "colab": {
          "base_uri": "https://localhost:8080/"
        }
      },
      "execution_count": null,
      "outputs": [
        {
          "output_type": "stream",
          "name": "stdout",
          "text": [
            "0.009999833334166666\n",
            "0.009999833334166664\n",
            "El error es: 1.734723475976807e-18\n",
            "Cota del error: 1.3888888888888892e-15\n"
          ]
        }
      ]
    },
    {
      "cell_type": "code",
      "source": [
        "# el polinomio de taylor del f(x)=sen(x) es\n",
        "# p(x) = x - x^3/3! + x^5/5! + ...\n",
        "\n",
        "n=11\n",
        "x = np.linspace(-5,5,101) #[-5,...,...,....]\n",
        "plt.figure(figsize=(10,6))\n",
        "plt.plot(x, np.sin(x), 'r.')\n",
        "p = np.zeros(101) #como necesitamos un vector recordemos que cada polinomio comienza en 0\n",
        "print(p)\n",
        "#plt.plot(x,p)\n",
        "for i in range(1,n+1,2):\n",
        "    p = p+(-1)**((i-1)/2)*(x**i)/math.factorial(i)        \n",
        "\n",
        "plt.plot(x,p)"
      ],
      "metadata": {
        "id": "RHnpo2cnBNGl",
        "colab": {
          "base_uri": "https://localhost:8080/",
          "height": 482
        },
        "outputId": "fe6aa324-3b46-4feb-97d4-3c6d4c703086"
      },
      "execution_count": null,
      "outputs": [
        {
          "output_type": "stream",
          "name": "stdout",
          "text": [
            "[0. 0. 0. 0. 0. 0. 0. 0. 0. 0. 0. 0. 0. 0. 0. 0. 0. 0. 0. 0. 0. 0. 0. 0.\n",
            " 0. 0. 0. 0. 0. 0. 0. 0. 0. 0. 0. 0. 0. 0. 0. 0. 0. 0. 0. 0. 0. 0. 0. 0.\n",
            " 0. 0. 0. 0. 0. 0. 0. 0. 0. 0. 0. 0. 0. 0. 0. 0. 0. 0. 0. 0. 0. 0. 0. 0.\n",
            " 0. 0. 0. 0. 0. 0. 0. 0. 0. 0. 0. 0. 0. 0. 0. 0. 0. 0. 0. 0. 0. 0. 0. 0.\n",
            " 0. 0. 0. 0. 0.]\n"
          ]
        },
        {
          "output_type": "execute_result",
          "data": {
            "text/plain": [
              "[<matplotlib.lines.Line2D at 0x7f65fe8d6910>]"
            ]
          },
          "metadata": {},
          "execution_count": 25
        },
        {
          "output_type": "display_data",
          "data": {
            "text/plain": [
              "<Figure size 720x432 with 1 Axes>"
            ],
            "image/png": "[encoded data removed]"
          },
          "metadata": {
            "needs_background": "light"
          }
        }
      ]
    }
  ]
}