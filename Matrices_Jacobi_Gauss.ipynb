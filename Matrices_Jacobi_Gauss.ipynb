{
  "cells": [
    {
      "cell_type": "markdown",
      "metadata": {
        "id": "view-in-github",
        "colab_type": "text"
      },
      "source": [
        "<a href=\"https://colab.research.google.com/github/maurimendiluce/Clases-Mate2/blob/main/Matrices_Jacobi_Gauss.ipynb\" target=\"_parent\"><img src=\"https://colab.research.google.com/assets/colab-badge.svg\" alt=\"Open In Colab\"/></a>"
      ]
    },
    {
      "cell_type": "markdown",
      "metadata": {
        "id": "1Bm3rEcTT6p9"
      },
      "source": [
        "\n",
        "#Métodos de Jacobi y Gauss-Siedel\n",
        "\n",
        "###Matrices: \n",
        " \n",
        " Para trabajar con matrices usamos `np.array()`. "
      ]
    },
    {
      "cell_type": "markdown",
      "source": [
        "##Veamos algunos ejemplos para selelcionar coordenadas, filas o columnas."
      ],
      "metadata": {
        "id": "L2GVSbycpEpg"
      }
    },
    {
      "cell_type": "code",
      "execution_count": null,
      "metadata": {
        "id": "yZBlOlrST6qI",
        "outputId": "e2eef06f-9d31-43e9-ec56-b7cd6334e8b3",
        "colab": {
          "base_uri": "https://localhost:8080/"
        }
      },
      "outputs": [
        {
          "output_type": "stream",
          "name": "stdout",
          "text": [
            "[[1 7]\n",
            " [3 9]]\n"
          ]
        }
      ],
      "source": [
        "import numpy as np\n",
        "A = np.array([[1,7], [3,9]])\n",
        "print(A)"
      ]
    },
    {
      "cell_type": "code",
      "execution_count": null,
      "metadata": {
        "id": "99YJ2pNQT6qN",
        "outputId": "3d6d372f-040c-4617-ccd1-fa90ffa44715",
        "colab": {
          "base_uri": "https://localhost:8080/"
        }
      },
      "outputs": [
        {
          "output_type": "stream",
          "name": "stdout",
          "text": [
            "7\n"
          ]
        }
      ],
      "source": [
        "print(A[0,1])   # Fila 0, columna 1"
      ]
    },
    {
      "cell_type": "code",
      "source": [
        "print(A[0,0])   # Fila 0, columna 0"
      ],
      "metadata": {
        "colab": {
          "base_uri": "https://localhost:8080/"
        },
        "id": "hLgYbX0kZTxf",
        "outputId": "89961006-c2be-4554-b17e-563bcd45d9ce"
      },
      "execution_count": null,
      "outputs": [
        {
          "output_type": "stream",
          "name": "stdout",
          "text": [
            "1\n"
          ]
        }
      ]
    },
    {
      "cell_type": "code",
      "source": [
        "print(A[0][1])   # Fila 0, columna 1.    Otra Forma de hacer lo mismo "
      ],
      "metadata": {
        "colab": {
          "base_uri": "https://localhost:8080/"
        },
        "id": "KfxA9PChZcL1",
        "outputId": "90e3271c-ee83-41e5-da4f-eeaf2dfafab7"
      },
      "execution_count": null,
      "outputs": [
        {
          "output_type": "stream",
          "name": "stdout",
          "text": [
            "7\n"
          ]
        }
      ]
    },
    {
      "cell_type": "code",
      "source": [
        "print(A[1,:])   # Seleccionar la Fila 1. Lo devuelve como un array 1-dimesional.\n",
        "#print(A[1])     # Otra forma de seleccionar Fila 1"
      ],
      "metadata": {
        "colab": {
          "base_uri": "https://localhost:8080/"
        },
        "id": "Dx8oZ1dXZn-E",
        "outputId": "8a9b9fb3-3ba8-40fe-a1aa-09c08f6b9172"
      },
      "execution_count": null,
      "outputs": [
        {
          "output_type": "stream",
          "name": "stdout",
          "text": [
            "[3 9]\n"
          ]
        }
      ]
    },
    {
      "cell_type": "code",
      "source": [
        "print(A[:, 0])   # Seleccionar Columna 0. Lo devuelve como un array 1-dimesional."
      ],
      "metadata": {
        "colab": {
          "base_uri": "https://localhost:8080/"
        },
        "id": "Wq3DxPrCZ5VV",
        "outputId": "de1a2a1e-c399-4daf-a807-5c9eae91da1f"
      },
      "execution_count": null,
      "outputs": [
        {
          "output_type": "stream",
          "name": "stdout",
          "text": [
            "[1 3]\n"
          ]
        }
      ]
    },
    {
      "cell_type": "markdown",
      "source": [
        "##Productos de Matrices"
      ],
      "metadata": {
        "id": "lY0AzZlOov3t"
      }
    },
    {
      "cell_type": "code",
      "execution_count": null,
      "metadata": {
        "id": "Vk0zhUHET6qO",
        "outputId": "387892d0-8c93-4c19-d420-8e9c5709f654",
        "colab": {
          "base_uri": "https://localhost:8080/"
        }
      },
      "outputs": [
        {
          "output_type": "stream",
          "name": "stdout",
          "text": [
            "[[2 0]\n",
            " [0 1]]\n"
          ]
        }
      ],
      "source": [
        "B = np.array([[2,0],[0,1]])\n",
        "print(B)"
      ]
    },
    {
      "cell_type": "code",
      "execution_count": null,
      "metadata": {
        "id": "TJp6lwCLT6qP",
        "outputId": "462565f3-29dc-41cd-b7ad-76dcf096f410",
        "colab": {
          "base_uri": "https://localhost:8080/"
        }
      },
      "outputs": [
        {
          "output_type": "execute_result",
          "data": {
            "text/plain": [
              "array([[2, 0],\n",
              "       [0, 9]])"
            ]
          },
          "metadata": {},
          "execution_count": 14
        }
      ],
      "source": [
        "# OJO, no es el prod matricial usual! El producto es punto a punto, igual que el producto de array 1-dimensionales.\n",
        "A*B"
      ]
    },
    {
      "cell_type": "code",
      "execution_count": null,
      "metadata": {
        "id": "031N2XUkT6qQ",
        "outputId": "c3b4cde6-d0f1-4f6e-db36-fb38dca74f8c",
        "colab": {
          "base_uri": "https://localhost:8080/"
        }
      },
      "outputs": [
        {
          "output_type": "execute_result",
          "data": {
            "text/plain": [
              "array([[ 2, 14],\n",
              "       [ 3,  9]])"
            ]
          },
          "metadata": {},
          "execution_count": 15
        }
      ],
      "source": [
        "# Para hacer el producto de matrices se usa el comando np.dot\n",
        "np.dot(B, A)"
      ]
    },
    {
      "cell_type": "markdown",
      "source": [
        "## Más comandos"
      ],
      "metadata": {
        "id": "0su1GFc0pPzk"
      }
    },
    {
      "cell_type": "code",
      "execution_count": null,
      "metadata": {
        "id": "gsf9Q7yqT6qS",
        "outputId": "3eb4a299-44f1-4a03-dd15-a580e61e486b",
        "colab": {
          "base_uri": "https://localhost:8080/"
        }
      },
      "outputs": [
        {
          "output_type": "stream",
          "name": "stdout",
          "text": [
            "[[1 7]\n",
            " [3 9]]\n",
            "[[1 3]\n",
            " [7 9]]\n"
          ]
        }
      ],
      "source": [
        "At = np.transpose(A) # Traspone la matriz\n",
        "print(A)\n",
        "print(At)"
      ]
    },
    {
      "cell_type": "code",
      "execution_count": null,
      "metadata": {
        "id": "onAtoyxzT6qU",
        "outputId": "d5ca4ab9-41b2-4273-cd8c-597c759aaae0",
        "colab": {
          "base_uri": "https://localhost:8080/"
        }
      },
      "outputs": [
        {
          "output_type": "stream",
          "name": "stdout",
          "text": [
            "[1 9]\n"
          ]
        }
      ],
      "source": [
        "D = np.diag(A)\n",
        "print(D)  # Devuelve la diagonal como un array 1-dimensional"
      ]
    },
    {
      "cell_type": "code",
      "execution_count": null,
      "metadata": {
        "id": "BN9xLVscT6qW",
        "outputId": "e8e355fb-2060-466e-d2c2-3ff5ed4ba057",
        "colab": {
          "base_uri": "https://localhost:8080/"
        }
      },
      "outputs": [
        {
          "output_type": "execute_result",
          "data": {
            "text/plain": [
              "array([[1, 0],\n",
              "       [0, 9]])"
            ]
          },
          "metadata": {},
          "execution_count": 18
        }
      ],
      "source": [
        "np.diag(np.diag(A))  # Convierte un array 1-dimesional a matriz diagonal"
      ]
    },
    {
      "cell_type": "code",
      "execution_count": null,
      "metadata": {
        "id": "86LmeKOVT6qX",
        "outputId": "c69236d5-1ca0-45f8-d7f4-9e7e0e0f1da9",
        "colab": {
          "base_uri": "https://localhost:8080/"
        }
      },
      "outputs": [
        {
          "output_type": "execute_result",
          "data": {
            "text/plain": [
              "array([[1, 0],\n",
              "       [0, 9]])"
            ]
          },
          "metadata": {},
          "execution_count": 19
        }
      ],
      "source": [
        "np.diag([1,9]) #Lo mismo que antes"
      ]
    },
    {
      "cell_type": "code",
      "execution_count": null,
      "metadata": {
        "id": "AFrKG-3ST6qY"
      },
      "outputs": [],
      "source": [
        "M = np.random.rand(4,4)   # Matriz de números aleatorios entre 0 y 1\n",
        "print(M)\n",
        "print(np.zeros((4,4)))    # Matriz de ceros"
      ]
    },
    {
      "cell_type": "code",
      "execution_count": null,
      "metadata": {
        "id": "XnK8WFuyT6qZ"
      },
      "outputs": [],
      "source": [
        "print(\"L = \\n\", np.tril(M, -1))   # Parte abajo de la diagonal. Agregamos la opción -1 para que no incluya a la diagonal\n",
        "print(\"U = \\n\", np.triu(M, +1))   # Parte arriba de la diagonal. Agregamos la opción +1 para que no incluya a la diagonal\n"
      ]
    },
    {
      "cell_type": "markdown",
      "metadata": {
        "id": "eaYhWY0LT6qa"
      },
      "source": [
        "## El paquete `numpy.linalg`\n"
      ]
    },
    {
      "cell_type": "code",
      "execution_count": null,
      "metadata": {
        "id": "zlpUD1DmT6qb"
      },
      "outputs": [],
      "source": [
        "# Autovalores\n",
        "print(B)\n",
        "e = np.linalg.eig(B)\n",
        "print(e)\n"
      ]
    },
    {
      "cell_type": "code",
      "execution_count": null,
      "metadata": {
        "id": "4ILIoHAHT6qc",
        "outputId": "ef3c704a-2b43-4c1b-e3b7-7f68cdbb8895"
      },
      "outputs": [
        {
          "name": "stdout",
          "output_type": "stream",
          "text": [
            "[2. 1.]\n"
          ]
        }
      ],
      "source": [
        "print(e[0])   # Autovalores"
      ]
    },
    {
      "cell_type": "code",
      "execution_count": null,
      "metadata": {
        "id": "VIjRQmk1T6qc"
      },
      "outputs": [],
      "source": [
        "print(e[1])   # Autovectores asociados a cada autovalor"
      ]
    },
    {
      "cell_type": "code",
      "execution_count": null,
      "metadata": {
        "id": "PreaXVfzT6qd"
      },
      "outputs": [],
      "source": [
        "# Determinantes\n",
        "print(A)\n",
        "print(np.linalg.det(A))\n",
        "print(np.linalg.det(B))"
      ]
    },
    {
      "cell_type": "code",
      "execution_count": null,
      "metadata": {
        "id": "x719lEKYT6qe"
      },
      "outputs": [],
      "source": [
        "# Inversas \n",
        "print(np.linalg.inv(A))\n",
        "print(np.linalg.inv(B))"
      ]
    },
    {
      "cell_type": "markdown",
      "metadata": {
        "id": "YLR-6f1-T6qf"
      },
      "source": [
        "### Jacobi y Gauss Siedel\n",
        "- Recomendación: mirar wikipedia \n"
      ]
    },
    {
      "cell_type": "markdown",
      "metadata": {
        "id": "WFWpw4RKT6qg"
      },
      "source": [
        "#### Jacobi\n",
        "\n",
        "Para resolver el sistema\n",
        "$$\n",
        "A{x} ={b} \n",
        "$$\n",
        "utilizamos la iteración\n",
        "$$\n",
        "x^{(k+1)}=D^{-1}(-(L+U)) {x} ^{(k)} + D^{-1}b = D^{-1}((-(L+U) {x} ^{(k)} + b)\n",
        "$$"
      ]
    },
    {
      "cell_type": "markdown",
      "metadata": {
        "id": "i_3tSiJzT6qg"
      },
      "source": [
        "**Ejemplo:** Implementar el método de Jacobi (en forma matricial) y utilizarlo para resolver el sistema $Ax = b$ con\n",
        "$$\n",
        "A = \n",
        "\\begin{pmatrix}\n",
        "5 & 2 & 1 & 1 \\\\\n",
        "2 & 6 & 2 & 1 \\\\\n",
        "1 & 2 & 7 & 1 \\\\\n",
        "1 & 1 & 2 & 8\n",
        "\\end{pmatrix}\n",
        "$$\n",
        "y\n",
        "$$\n",
        "b = (29, 31, 26, 19)^t\n",
        "$$\n"
      ]
    },
    {
      "cell_type": "code",
      "execution_count": null,
      "metadata": {
        "id": "cxe8oo8kT6qh"
      },
      "outputs": [],
      "source": [
        "def jacobi(A, b, x0, eps=1e-10, n=500):   # los parámetros eps y n se los pasamos por defectopor defecto\n",
        "    D = np.diag(np.diag(A))\n",
        "    LU = A - D\n",
        "    x = x0\n",
        "    D_inv = np.linalg.inv(D)\n",
        "    for i in range(n):\n",
        "        xTemp = x\n",
        "        x = np.dot(D_inv, np.dot(-(LU), x) + b)   \n",
        "        print('paso:', i, '- x:', x)\n",
        "        if np.linalg.norm(x - xTemp) < eps:    # norm nos la norma de un vector\n",
        "            return x\n",
        "    return x\n"
      ]
    },
    {
      "cell_type": "code",
      "execution_count": null,
      "metadata": {
        "id": "G09foXOXT6qi"
      },
      "outputs": [],
      "source": [
        "A = np.array([\n",
        "    [5, 2, 1, 1],\n",
        "    [2, 6, 2, 1],\n",
        "    [1, 2, 7, 1],\n",
        "    [1, 1, 2, 8]\n",
        "])\n",
        "b = np.array([29, 31, 26, 19])\n",
        "\n",
        "x0 = np.random.rand(4)\n",
        "x = jacobi(A, b, x0, 10**(-14), 500)    # Si no ingresamos los ultimos valores, usa los valores por defecto\n",
        "\n",
        "print('x:', x)\n",
        "print('b calculado:', np.dot(A, x))\n",
        "print('b verdadero:', b)\n",
        "print('solución de numpy:', np.linalg.solve(A,b))"
      ]
    },
    {
      "cell_type": "markdown",
      "metadata": {
        "id": "yMevhua6T6qj"
      },
      "source": [
        "#Ejercicio:\n",
        " \n",
        "Modificar el programa anterior para que aplique el método de Gauss-Siedel, dado por la iteración\n",
        "$$\n",
        "{x} ^{(k+1)}=(L+D)^{-1}({b} -U {x} ^{(k)}).\n",
        "$$\n",
        "\n",
        "Resolver el sistema anterior utilizando Gauss-Siedel y comparar la cantida de pasos."
      ]
    },
    {
      "cell_type": "markdown",
      "metadata": {
        "id": "ZZ7sXI3ET6qj"
      },
      "source": [
        "#Convergencia del método de Jacobi usando comandos de `numpy`\n",
        "\n",
        "\n",
        "**Ejemplo:** \n",
        "\n",
        "- Para \n",
        "$$\n",
        "A={\\begin{pmatrix}29&2&1\\\\2&6&1\\\\1&1&{\\frac {1}{5}}\\end{pmatrix}}\n",
        "$$\n",
        "\n",
        "y \n",
        "\n",
        "$$\n",
        "b = [1, 2, 3]^t\n",
        "$$\n",
        "\n",
        "determinar si el sistema $Ax = b$ es convergente para cualquier vector inicial $x_0$.\n",
        "\n",
        "- Verificar la respuesta tomando distintos vectores iniciales."
      ]
    },
    {
      "cell_type": "code",
      "execution_count": null,
      "metadata": {
        "id": "jTk1lvbaT6qk"
      },
      "outputs": [],
      "source": [
        "A = np.array([[29, 2, 1], [2, 6, 1], [1, 1, 1/5]])\n",
        "D = np.diag(np.diag(A))\n",
        "LU = A - D\n",
        "BJ = np.dot(np.linalg.inv(D), -LU)\n",
        "print(BJ)"
      ]
    },
    {
      "cell_type": "code",
      "execution_count": null,
      "metadata": {
        "id": "fTQPxOzUT6ql"
      },
      "outputs": [],
      "source": [
        "np.linalg.eig(BJ)"
      ]
    },
    {
      "cell_type": "code",
      "execution_count": null,
      "metadata": {
        "id": "WZaP_nh6T6qm"
      },
      "outputs": [],
      "source": [
        "b = np.array([1,2,3])\n",
        "#x0 = np.random.rand(3)\n",
        "x0 = np.zeros(3)\n",
        "x = jacobi(A, b, x0)    # Si no ingresamos los ultimos valores, usa los valores por defecto\n",
        "\n",
        "print('x:', x)\n",
        "print('b calculado:', np.dot(A, x))\n",
        "print('b verdadero:', b)\n",
        "print('solución de numpy:', np.linalg.solve(A,b))"
      ]
    },
    {
      "cell_type": "code",
      "execution_count": null,
      "metadata": {
        "id": "TYBGxxV1T6qn"
      },
      "outputs": [],
      "source": []
    }
  ],
  "metadata": {
    "kernelspec": {
      "display_name": "Python 3",
      "language": "python",
      "name": "python3"
    },
    "language_info": {
      "codemirror_mode": {
        "name": "ipython",
        "version": 3
      },
      "file_extension": ".py",
      "mimetype": "text/x-python",
      "name": "python",
      "nbconvert_exporter": "python",
      "pygments_lexer": "ipython3",
      "version": "3.7.6"
    },
    "colab": {
      "provenance": [],
      "include_colab_link": true
    }
  },
  "nbformat": 4,
  "nbformat_minor": 0
}