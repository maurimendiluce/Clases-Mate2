{
  "cells": [
    {
      "cell_type": "markdown",
      "metadata": {
        "id": "view-in-github",
        "colab_type": "text"
      },
      "source": [
        "<a href=\"https://colab.research.google.com/github/maurimendiluce/Clases-Mate2/blob/main/Polinomios_Operaciones.ipynb\" target=\"_parent\"><img src=\"https://colab.research.google.com/assets/colab-badge.svg\" alt=\"Open In Colab\"/></a>"
      ]
    },
    {
      "cell_type": "markdown",
      "metadata": {
        "id": "R7FnoWhlQZRi"
      },
      "source": [
        "## Operaciones con Polinomios\n",
        "\n",
        "- Sumar y multiplicar polinomios\n",
        "\n",
        "\n"
      ]
    },
    {
      "cell_type": "code",
      "source": [
        "import math\n",
        "import numpy as np\n",
        "import matplotlib.pyplot as plt"
      ],
      "metadata": {
        "id": "eefQcnSPVeNZ"
      },
      "execution_count": null,
      "outputs": []
    },
    {
      "cell_type": "code",
      "execution_count": null,
      "metadata": {
        "id": "hdJV6haKQZRj",
        "outputId": "b6c34243-a7aa-4588-be17-409830899e7e",
        "colab": {
          "base_uri": "https://localhost:8080/"
        }
      },
      "outputs": [
        {
          "output_type": "stream",
          "name": "stdout",
          "text": [
            "p1: \n",
            "   3\n",
            "1 x + 2\n",
            "\n",
            "p2: \n",
            "   2\n",
            "1 x + 2 x + 3\n",
            "\n",
            "p3 = p1 + p2: \n",
            "    3     2\n",
            "1 x + 1 x + 2 x + 5\n",
            "\n",
            "p4 = p1 * p2: \n",
            "    5     4     3     2\n",
            "1 x + 2 x + 3 x + 2 x + 4 x + 6\n"
          ]
        }
      ],
      "source": [
        "# Operaciones con polinomios\n",
        "c1 = np.array([1, 0, 0, 2])  \n",
        "c2 = np.array([1,2,3])\n",
        "p1 = np.poly1d(c1)  # p1 = 2 + x^3\n",
        "p2 = np.poly1d(c2)  # p2 = 3 + 2x + x^2\n",
        "print(\"p1: \")\n",
        "print(p1)\n",
        "print(\"\")\n",
        "print(\"p2: \")\n",
        "print(p2)\n",
        "\n",
        "print(\"\")\n",
        "\n",
        "p3 = p1 + p2     # Suma de polinomios\n",
        "print(\"p3 = p1 + p2: \\n\", p3)   # La secuencia \\n hace comenzar un renglón nuevo\n",
        "\n",
        "print(\"\")\n",
        "\n",
        "\n",
        "p4 = p1 * p2     # Producto de polinomios\n",
        "print(\"p4 = p1 * p2: \\n\", p4)\n",
        "\n"
      ]
    },
    {
      "cell_type": "markdown",
      "metadata": {
        "id": "9qR-dCWRQZRt"
      },
      "source": [
        "##Ejercicio: \n",
        "\n",
        "- Sea $P(x)$ el polinomio que interpola a la función $y = \\cos(x)$ en 11 puntos equiespaciados en el segmento [0,1]. Graficarlo\n",
        "- Sea $Q(x)$ el polinomio que interpola a la función $y = \\sin(x)$ en 11 puntos equiespaciados en el segmento [0,1]. Graficarlo.\n",
        "- Hacé un programita en otra celda de codigo que grafique $f(x)=cos(x)sin(x)$ y $T(x)=P(x).Q(x)$, variando la cantidad de puntos de la interpolación.\n",
        "- Sea $V(x)$ el polinomio que interpola la función $f(x)=cos(x)sin(x)$ en 11 puntos equiespaciados en el segmento [0,1] . Hacé un programita en otra celda de codigo que calcule $V(x)$ y luego grafique junto a la gráfica de $f(x)$\n",
        "- Compará los gráficos con el item anterior, variá la cantidad de puntos, pensá como graficar errores cometidos en las interpolaciones que hiciste.\n",
        "\n",
        "(Ahora es solo un ejercicio cualitativo para practicar las cosas que ya sabemos hacer en `Python`, pero usaremos estas ideas en las proximas clases en ejercicios más concretos) \n",
        "\n",
        "\n",
        "\n"
      ]
    },
    {
      "cell_type": "code",
      "execution_count": null,
      "metadata": {
        "id": "uu6KS997QZR0",
        "colab": {
          "base_uri": "https://localhost:8080/",
          "height": 282
        },
        "outputId": "b60e4d24-0477-42d5-a376-887883c80141"
      },
      "outputs": [
        {
          "output_type": "execute_result",
          "data": {
            "text/plain": [
              "[<matplotlib.lines.Line2D at 0x7f3a9a743f50>]"
            ]
          },
          "metadata": {},
          "execution_count": 17
        },
        {
          "output_type": "display_data",
          "data": {
            "text/plain": [
              "<Figure size 432x288 with 1 Axes>"
            ],
            "image/png": "[encoded data removed]"
          },
          "metadata": {
            "needs_background": "light"
          }
        }
      ],
      "source": [
        "#Podés pensarlos a partir de las siguientes lineas de código si querés\n",
        "\n",
        "xi = np.linspace(0,1,11)\n",
        "yic = np.cos(xi)\n",
        "coseno = np.polyfit(xi,yic,10)\n",
        "p_c = np.poly1d(coseno)   # El polinomio interpolador del coseno\n",
        "\n",
        "x = np.linspace(-1,2,101)\n",
        "plt.plot(x, p_c(x))\n",
        "plt.plot(xi,yic,'.', ms=10)\n",
        "plt.plot(x, np.cos(x))\n",
        "\n",
        "yis = np.sin(xi)\n",
        "seno = np.polyfit(xi,yis,10)\n",
        "p_s= np.poly1d(seno)   # El polinomio interpolador del seno\n",
        "\n",
        "x = np.linspace(-1,2,101)\n",
        "plt.plot(x, p_s(x))\n",
        "plt.plot(xi,yis,'.', ms=10)\n",
        "plt.plot(x, np.sin(x))\n",
        "\n"
      ]
    },
    {
      "cell_type": "markdown",
      "source": [
        "## Más operaciones con Polinomios\n",
        "\n",
        "\n",
        "- Definir un polinomio mediante sus raíces\n"
      ],
      "metadata": {
        "id": "uIstFJdub6op"
      }
    },
    {
      "cell_type": "code",
      "execution_count": null,
      "metadata": {
        "id": "dcq7vI-gQZRr",
        "outputId": "02d21884-54ed-4317-ef79-16c1543ce052",
        "colab": {
          "base_uri": "https://localhost:8080/"
        }
      },
      "outputs": [
        {
          "output_type": "stream",
          "name": "stdout",
          "text": [
            "   4     3      2\n",
            "1 x - 8 x + 14 x + 8 x - 15\n"
          ]
        }
      ],
      "source": [
        "# Puedo definir un polinomio a partir de sus raíces, usando el parámetro true en la declaración de poly1d\n",
        "q1 = np.poly1d([-1,1,3,5], True)\n",
        "print(q1)"
      ]
    },
    {
      "cell_type": "code",
      "execution_count": null,
      "metadata": {
        "id": "jcHEfBKeQZRs",
        "outputId": "995d237b-929e-4f1a-8d92-b094ac421ca9",
        "colab": {
          "base_uri": "https://localhost:8080/"
        }
      },
      "outputs": [
        {
          "output_type": "stream",
          "name": "stdout",
          "text": [
            "[  0.   0.   0.   0.   9. 105.]\n"
          ]
        }
      ],
      "source": [
        "# Verificamos que las raíces son las que pedimos y probamos en otros puntos cualquiera\n",
        "q1 = np.poly1d([-1,1,3,5], True)\n",
        "print(q1(np.array([-1,1,3,5,2,-2])))"
      ]
    },
    {
      "cell_type": "markdown",
      "source": [
        "## Un ejemplo de polinomio que lo construimos a mano con el metodo de diferencias divididas\n",
        "\n",
        "Sabemos que interpola los puntos $\\quad(1,2) \\quad (3,3)\\quad (4,2)\\quad (8,10)\\quad$ y que su fórmula resultado de nuestras cuantas a mano fue:\n",
        "\n",
        "$P(x)=2+\\dfrac{1}{2}(x-1)-\\dfrac{1}{2}(x-1)(x-3)+\\dfrac{11}{70}(x-1)(x-3)(x-4)$\n",
        "\n"
      ],
      "metadata": {
        "id": "fcm67X04j8Lf"
      }
    },
    {
      "cell_type": "code",
      "source": [],
      "metadata": {
        "id": "Il1xch5vj-XE"
      },
      "execution_count": null,
      "outputs": []
    },
    {
      "cell_type": "code",
      "execution_count": null,
      "metadata": {
        "id": "ENdMTQblggYo",
        "outputId": "879c776c-338f-4659-d6c8-dd53a15111a3",
        "colab": {
          "base_uri": "https://localhost:8080/"
        }
      },
      "outputs": [
        {
          "output_type": "stream",
          "name": "stdout",
          "text": [
            "        3         2\n",
            "0.1571 x - 1.757 x + 5.486 x - 1.886\n",
            "[ 2.  3.  2. 10.]\n",
            "[ 0.15714286 -1.75714286  5.48571429 -1.88571429]\n",
            "[5.39540427+1.25673924j 5.39540427-1.25673924j 0.39100964+0.j        ]\n"
          ]
        }
      ],
      "source": [
        "#De verificación de polinomio que construimos con diferencias divididas\n",
        "\n",
        "p0 = np.poly1d([2])                # El polinomio constante p1 = 2\n",
        "p1 = np.poly1d([1], True)          # El polinomio (x - 1) (definido por sus raíces)\n",
        "p2 = np.poly1d([1,3], True)        # El polinomio (x - 1)(x-3) (definido por sus raíces)\n",
        "p3 = np.poly1d([1,3,4], True)      # El polinomio (x - 1)(x-3)(x-4) (definido por sus raíces)\n",
        "\n",
        "p = p0 + 1/2 * p1 - 1/2 * p2 + 11/70 * p3   #Construyo el polinomio que quiero verificar\n",
        "\n",
        "print(p) \n",
        "\n",
        "print(p([1,3,4,8]))    # Evaluamos el polinomio resultante en los puntos de interpolación e imprimo elresultado para verficar\n",
        "\n",
        "#print(p.c)             # Si quiero ver solo los coeficientes de p uso el comando: p.c\n",
        "#print(p.r)             # Si quiero hallar las raices de p uso el comando: p.r"
      ]
    },
    {
      "cell_type": "code",
      "execution_count": null,
      "metadata": {
        "id": "K4KR_og8ggYp",
        "outputId": "282da55d-94db-4098-c21a-1f7f24398550",
        "colab": {
          "base_uri": "https://localhost:8080/",
          "height": 282
        }
      },
      "outputs": [
        {
          "output_type": "execute_result",
          "data": {
            "text/plain": [
              "[<matplotlib.lines.Line2D at 0x7f3a9ba239d0>]"
            ]
          },
          "metadata": {},
          "execution_count": 12
        },
        {
          "output_type": "display_data",
          "data": {
            "text/plain": [
              "<Figure size 432x288 with 1 Axes>"
            ],
            "image/png": "[encoded data removed]"
          },
          "metadata": {
            "needs_background": "light"
          }
        }
      ],
      "source": [
        "# Graficamos\n",
        "xi = [1, 3, 4, 8]\n",
        "yi = [2, 3, 2, 10]\n",
        "x=np.linspace(0,10,100)\n",
        "plt.plot(x,p(x))\n",
        "plt.plot(xi,yi, '.', ms=15)"
      ]
    }
  ],
  "metadata": {
    "kernelspec": {
      "display_name": "Python 3 (ipykernel)",
      "language": "python",
      "name": "python3"
    },
    "language_info": {
      "codemirror_mode": {
        "name": "ipython",
        "version": 3
      },
      "file_extension": ".py",
      "mimetype": "text/x-python",
      "name": "python",
      "nbconvert_exporter": "python",
      "pygments_lexer": "ipython3",
      "version": "3.9.12"
    },
    "colab": {
      "provenance": [],
      "include_colab_link": true
    }
  },
  "nbformat": 4,
  "nbformat_minor": 0
}