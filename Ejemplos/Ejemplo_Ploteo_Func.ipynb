{
  "nbformat": 4,
  "nbformat_minor": 0,
  "metadata": {
    "colab": {
      "provenance": [],
      "include_colab_link": true
    },
    "kernelspec": {
      "name": "python3",
      "display_name": "Python 3"
    },
    "language_info": {
      "name": "python"
    }
  },
  "cells": [
    {
      "cell_type": "markdown",
      "metadata": {
        "id": "view-in-github",
        "colab_type": "text"
      },
      "source": [
        "<a href=\"https://colab.research.google.com/github/maurimendiluce/Clases-Mate2/blob/main/Ejemplo_Ploteo_Func.ipynb\" target=\"_parent\"><img src=\"https://colab.research.google.com/assets/colab-badge.svg\" alt=\"Open In Colab\"/></a>"
      ]
    },
    {
      "cell_type": "code",
      "execution_count": null,
      "metadata": {
        "id": "6-EtIoxq-5tn"
      },
      "outputs": [],
      "source": []
    },
    {
      "cell_type": "code",
      "execution_count": null,
      "metadata": {
        "id": "8Lmjgx9nSWYY"
      },
      "outputs": [],
      "source": [
        "#Ejemplo de Gráfico de una Función en Python\n",
        "\n",
        "import matplotlib.pyplot as plt\n",
        "import numpy as np\n",
        "import math\n",
        "\n",
        "print('Este código plotea una funcion tipo cos(x).(x^n-x^m+x) para el n que le digas, en el intervalo que le digas [I,D] ')\n",
        "\n",
        "n=int(input(\"Ingresa un número n de la potencia:  \"))\n",
        "m=int(input(\"Ingresa un número m de la potencia:  \"))\n",
        "I=int(input(\"Ingresa margen I:  \"))\n",
        "D=int(input(\"Ingresa margen D:  \"))\n",
        "\n",
        "x = np.arange(I,D,0.1)\n",
        "y = np.cos(x)*(x**n-x**m+x)\n",
        "\n",
        "plt.plot(x,y)\n",
        "\n",
        "plt.xlabel(f'Intervalo [{I},{D}]')\n",
        "plt.ylabel('Valor de F(x)')\n",
        "plt.title(f'Gráfico de la Función F(x)= cos(x).(x^{n}-x^{m}+x)')\n",
        "\n",
        "plt.show()\n",
        "\n"
      ]
    }
  ]
}
