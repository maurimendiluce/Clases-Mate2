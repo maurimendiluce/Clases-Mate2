{
  "nbformat": 4,
  "nbformat_minor": 0,
  "metadata": {
    "colab": {
      "provenance": [],
      "include_colab_link": true
    },
    "kernelspec": {
      "name": "python3",
      "display_name": "Python 3"
    },
    "language_info": {
      "name": "python"
    }
  },
  "cells": [
    {
      "cell_type": "markdown",
      "metadata": {
        "id": "view-in-github",
        "colab_type": "text"
      },
      "source": [
        "<a href=\"https://colab.research.google.com/github/maurimendiluce/Clases-Mate2/blob/main/Interpolacion_por_polinomios_y_graficos.ipynb\" target=\"_parent\"><img src=\"https://colab.research.google.com/assets/colab-badge.svg\" alt=\"Open In Colab\"/></a>"
      ]
    },
    {
      "cell_type": "markdown",
      "metadata": {
        "id": "nYSr4Y1jnpuV"
      },
      "source": [
        "# Polinomios e interpolación de Lagrange\n",
        "\n",
        "Para trabajar con polinomios e interpolación vamos a usar las funciones del paquete Numpy.\n",
        "Principalmente: \n",
        "- `polyfit` (para calcular el polinomio interpolador)\n",
        "- `polyval` (para evaluar un polinomio dado en uno o muchos puntos)\n",
        "\n"
      ]
    },
    {
      "cell_type": "code",
      "execution_count": null,
      "metadata": {
        "id": "u9DZ01bFnpub"
      },
      "outputs": [],
      "source": [
        "import math\n",
        "import numpy as np\n",
        "import matplotlib.pyplot as plt"
      ]
    },
    {
      "cell_type": "code",
      "execution_count": null,
      "metadata": {
        "outputId": "ccdcb652-864e-47e2-efcf-178de7a27aff",
        "id": "LyeFJ1Yup3dq",
        "colab": {
          "base_uri": "https://localhost:8080/"
        }
      },
      "outputs": [
        {
          "output_type": "stream",
          "name": "stdout",
          "text": [
            "[ -2.   15.5 -33.5  22. ]\n"
          ]
        },
        {
          "output_type": "execute_result",
          "data": {
            "text/plain": [
              "array([ -2. ,  15.5, -33.5,  22. ])"
            ]
          },
          "metadata": {},
          "execution_count": 2
        }
      ],
      "source": [
        "# Construimos el polinomio de grado 3 que interpola los puntos (1,2), (2,1), (3,7) y (4,8)\n",
        "xi = np.array([1,2,3,4])   # Las coordenadas x de los puntos en los que queremos interpolar\n",
        "yi = np.array([2,1,7,8])   # Las coordenadas y de los puntos en los que queremos interpolar\n",
        "c = np.polyfit(xi,yi,3)    # El tercer parámetro es el grado del polinomio que buscamos\n",
        "print(c)                   # El resultado es el vector de coeficientes del polinomio.\n",
        "c"
      ]
    },
    {
      "cell_type": "markdown",
      "metadata": {
        "id": "a9nIoE9dp3dr"
      },
      "source": [
        "La salida de `polyfit` es el vector de coeficientes del polinomio, el primer elemento corresponde al término de grado mayor y el último término al monomio de grado 0. \n",
        "\n",
        "El paquete Numpy tiene también una clase de datos de tipo \"polinomio\", que permite operar fácilmente con polinomios.\n",
        "\n",
        "El comando `poly1d` de Numpy convierte el vector de coeficientes a un dato de tipo \"polinomio\"."
      ]
    },
    {
      "cell_type": "code",
      "execution_count": null,
      "metadata": {
        "outputId": "455e8efe-14f0-4eba-9e50-0b0dd2b8d46f",
        "id": "eOWvdbHap3ds",
        "colab": {
          "base_uri": "https://localhost:8080/"
        }
      },
      "outputs": [
        {
          "output_type": "stream",
          "name": "stdout",
          "text": [
            "    3        2\n",
            "-2 x + 15.5 x - 33.5 x + 22\n"
          ]
        }
      ],
      "source": [
        "p = np.poly1d(c)\n",
        "print(p)                # Cuando hacemos print de un polinomio, podemos verlo en su representación usual."
      ]
    },
    {
      "cell_type": "code",
      "execution_count": null,
      "metadata": {
        "id": "F1pe6yyunpuh",
        "outputId": "a683fd87-735a-4ac7-97f6-45f7b5cd6504",
        "colab": {
          "base_uri": "https://localhost:8080/"
        }
      },
      "outputs": [
        {
          "output_type": "execute_result",
          "data": {
            "text/plain": [
              "poly1d([ -2. ,  15.5, -33.5,  22. ])"
            ]
          },
          "metadata": {},
          "execution_count": 5
        }
      ],
      "source": [
        "p"
      ]
    },
    {
      "cell_type": "markdown",
      "metadata": {
        "id": "ie0uo1zUnpuh"
      },
      "source": [
        "$x^3+x+2$"
      ]
    },
    {
      "cell_type": "code",
      "execution_count": null,
      "metadata": {
        "id": "HLHJQJ-nnpui",
        "outputId": "e68381f3-6504-4235-b467-b1472f44c6a5",
        "colab": {
          "base_uri": "https://localhost:8080/"
        }
      },
      "outputs": [
        {
          "output_type": "stream",
          "name": "stdout",
          "text": [
            "   3\n",
            "1 x + 1 x + 2\n"
          ]
        }
      ],
      "source": [
        "p=np.poly1d(np.array([1,0,1,2]))\n",
        "print(p)"
      ]
    },
    {
      "cell_type": "code",
      "execution_count": null,
      "metadata": {
        "id": "8CoW176Jnpuj",
        "outputId": "2983108c-1948-41d0-d48f-30936462b69e",
        "colab": {
          "base_uri": "https://localhost:8080/"
        }
      },
      "outputs": [
        {
          "output_type": "stream",
          "name": "stdout",
          "text": [
            "4\n",
            "12\n",
            "32\n",
            "p(1) =  4\n"
          ]
        }
      ],
      "source": [
        "# Verificamos que el polinomio obtenido interpola los valores dados.\n",
        "# Usamos el comando polyval de numpy\n",
        "print(np.polyval(p,1))\n",
        "print(np.polyval(p,2))\n",
        "print(np.polyval(p,3))\n",
        "\n",
        "print(\"p(1) = \", p(1))  # Esto es lo mismo y más simple!"
      ]
    },
    {
      "cell_type": "markdown",
      "metadata": {
        "id": "Kfnp-zvsnpuk"
      },
      "source": [
        "(el resultado es correcto, aunque con errores numéricos muy pequeños)"
      ]
    },
    {
      "cell_type": "code",
      "execution_count": null,
      "metadata": {
        "id": "9GYyaIn9npul",
        "outputId": "83e473bc-0753-4cc9-dda8-ec55a14047ef",
        "colab": {
          "base_uri": "https://localhost:8080/"
        }
      },
      "outputs": [
        {
          "output_type": "stream",
          "name": "stdout",
          "text": [
            "[ 4 12 32 70]\n"
          ]
        }
      ],
      "source": [
        "# Podemos evaluar varios puntos a la vez\n",
        "print(p(xi))"
      ]
    },
    {
      "cell_type": "code",
      "execution_count": null,
      "metadata": {
        "id": "93yvk3Dmnpum",
        "outputId": "5fe2e690-6551-48b4-ea00-a3ae7a499389",
        "colab": {
          "base_uri": "https://localhost:8080/"
        }
      },
      "outputs": [
        {
          "output_type": "stream",
          "name": "stdout",
          "text": [
            "2.0000000000000284\n",
            "[2. 1. 7. 8.]\n"
          ]
        }
      ],
      "source": [
        "# Podemos llamar a la función polyval tanto con polinomios como con el vector de coeficientes.\n",
        "print(np.polyval(c,1))\n",
        "print(np.polyval(c,xi))"
      ]
    },
    {
      "cell_type": "markdown",
      "metadata": {
        "id": "PFFHjQI4npum"
      },
      "source": [
        "### Ejercicios:\n",
        "- ¿Qué polinomio representa el vector `c1 = np.array([1, 0, 1])`? Verificar la respuesta convirtiendo el array a un polinomio `p1`usando la función `poly1d`, y luego imprimiendo (`print`) dicho polinomio.\n",
        "- ¿Cuánto vale el polinomio `p1` en $x = 5$? Verificar la respuesta usando el comando `polyval` o directamente `p1(5)`.\n",
        "- ¿Qué polinomio representa el vector `d1 = np.array([0, 1, 0, 1])`? ¿Y `d2 = np.array([1, 0, 1, 0])`?\n",
        "- ¿Cómo se representa el polinomio $3x^3 + 2x - 5$ como array? Definir un array c2 como el vector de coeficientes, e imprimir su representación como polinomio usando la función `poly1d`.\n"
      ]
    },
    {
      "cell_type": "code",
      "execution_count": null,
      "metadata": {
        "id": "KNuKZmPRnpun",
        "outputId": "7df45ce7-2fa8-4a66-83b2-393e6ff86182",
        "colab": {
          "base_uri": "https://localhost:8080/",
          "height": 282
        }
      },
      "outputs": [
        {
          "output_type": "execute_result",
          "data": {
            "text/plain": [
              "[<matplotlib.lines.Line2D at 0x7fe20aaa9050>]"
            ]
          },
          "metadata": {},
          "execution_count": 14
        },
        {
          "output_type": "display_data",
          "data": {
            "text/plain": [
              "<Figure size 432x288 with 1 Axes>"
            ],
            "image/png": "[encoded data removed]"
          },
          "metadata": {
            "needs_background": "light"
          }
        }
      ],
      "source": [
        "# Para graficar el polinomio interpolador, aprovechamos que la función polyval podemos aplicarla a un array de números.\n",
        "\n",
        "# Repetimos las definiciones anteriores\n",
        "xi = np.array([1,2,3,4])   \n",
        "yi = np.array([2,1,7,8])   \n",
        "c = np.polyfit(xi,yi,3)    \n",
        "p = np.poly1d(c)\n",
        "\n",
        "x = np.linspace(0,5,100)       # 100 puntos equiespaciados en [0,5]\n",
        "y = np.polyval(p, x)           # Evaluamos p en esos 100 puntos.\n",
        "plt.plot(x,y)\n",
        "plt.plot(xi,yi,'.', ms=20)     # La última opción ms (marker size) cambia el tamaño de los puntos"
      ]
    },
    {
      "cell_type": "code",
      "execution_count": null,
      "metadata": {
        "id": "JPzf4-XFnpuo",
        "outputId": "aa752e0f-d830-4b77-a531-66f95f822f40",
        "colab": {
          "base_uri": "https://localhost:8080/"
        }
      },
      "outputs": [
        {
          "output_type": "stream",
          "name": "stdout",
          "text": [
            "[ 0.15714286 -1.75714286  5.48571429 -1.88571429]\n"
          ]
        },
        {
          "output_type": "execute_result",
          "data": {
            "text/plain": [
              "array([ 2.,  3.,  2., 10.])"
            ]
          },
          "metadata": {},
          "execution_count": 15
        }
      ],
      "source": [
        "# Puedo usar también la función polyfit con listas de Python\n",
        "xi = [1,3,4,8]\n",
        "yi = [2,3,2,10]\n",
        "c = np.polyfit(xi,yi,3)\n",
        "print(c)\n",
        "np.polyval(c,xi)"
      ]
    },
    {
      "cell_type": "code",
      "execution_count": null,
      "metadata": {
        "id": "KvVb4Xd4npup",
        "outputId": "0c6defe6-4e91-4c21-f1dc-2ebee842a468",
        "colab": {
          "base_uri": "https://localhost:8080/"
        }
      },
      "outputs": [
        {
          "output_type": "execute_result",
          "data": {
            "text/plain": [
              "array([0.25, 0.75, 1.  , 2.  ])"
            ]
          },
          "metadata": {},
          "execution_count": 16
        }
      ],
      "source": [
        "# Pero en general vamos a usar arrays, porque con listas no puedo operar coordenada a coordenada\n",
        "xi = np.array([1,3,4,8])\n",
        "xi/4"
      ]
    }
  ]
}
