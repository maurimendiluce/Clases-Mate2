{
  "nbformat": 4,
  "nbformat_minor": 0,
  "metadata": {
    "colab": {
      "provenance": [],
      "authorship_tag": "ABX9TyPQUKnM2H4cqecByRcKs3l7",
      "include_colab_link": true
    },
    "kernelspec": {
      "name": "python3",
      "display_name": "Python 3"
    },
    "language_info": {
      "name": "python"
    }
  },
  "cells": [
    {
      "cell_type": "markdown",
      "metadata": {
        "id": "view-in-github",
        "colab_type": "text"
      },
      "source": [
        "<a href=\"https://colab.research.google.com/github/maurimendiluce/Clases-Mate2/blob/main/Sistema_de_Ecuaciones_no_lineales.ipynb\" target=\"_parent\"><img src=\"https://colab.research.google.com/assets/colab-badge.svg\" alt=\"Open In Colab\"/></a>"
      ]
    },
    {
      "cell_type": "markdown",
      "source": [
        "# **Sistema de Ecuaciones no lineales**\n",
        "\n",
        "Consideremos un sistema de ecuaciones, con 2 ecuaciones y 2 incógnitas\n",
        "\\begin{align}\n",
        "f_1(x,y)&=0\\\\\n",
        "f_2(x,y)&=0\n",
        "\\end{align}\n",
        "Igual que en el caso de una variable, se puede transforma el sistema de ecuaciones en un problema de punto fijo $\\textbf{x}=\\phi(\\textbf{x})$ con $\\phi:\\mathbb{R}^2→\\mathbb{R}^2$. Igual que en el caso escalar, podemos plantear un método iterativo  $\\textbf{x}_{n+1}=\\phi(\\textbf{x}_n)$."
      ],
      "metadata": {
        "id": "YbwHYy7P8CBR"
      }
    },
    {
      "cell_type": "markdown",
      "source": [
        "**Ejemplo:** Dado el siguiente sistema de ecuación, planetar un método de punto fijo para aproximar alguna solución. \n",
        "\n",
        "\\begin{cases}\n",
        "    \\frac{1}{1+y^2} - x = 0 \\\\\n",
        "    x - y = 0 \\\\\n",
        "\\end{cases}"
      ],
      "metadata": {
        "id": "DluLjpPCBQ9f"
      }
    },
    {
      "cell_type": "markdown",
      "source": [
        "Definimos: \n",
        "$$F(x,y) = \\begin{pmatrix}\n",
        "f_1(x,y)  \\\\\n",
        "f_2(x,y)\n",
        "\\end{pmatrix}=\n",
        "\\begin{pmatrix}\n",
        "\\frac{1}{1+y^2} \\\\\n",
        "x\n",
        "\\end{pmatrix}\n",
        "$$\n",
        "entonces el algoritmo de punto fijo nos queda determinado por\n",
        "\n",
        "$$\\begin{pmatrix}\n",
        "x_{n+1} \\\\\n",
        "y_{n+1}\n",
        "\\end{pmatrix}=\n",
        "F(x_{n},y_{n})$$"
      ],
      "metadata": {
        "id": "Dnol4SwJBi8i"
      }
    },
    {
      "cell_type": "code",
      "execution_count": null,
      "metadata": {
        "id": "uIhgl7A95lqk"
      },
      "outputs": [],
      "source": [
        "import numpy as np\n",
        "import matplotlib.pyplot as plt"
      ]
    },
    {
      "cell_type": "code",
      "source": [
        "def F(x,y):\n",
        "  ret_val = np.array( [1/(1+y**2), x ] )\n",
        "  return ret_val"
      ],
      "metadata": {
        "id": "MTL8KKiOB8Ha"
      },
      "execution_count": null,
      "outputs": []
    },
    {
      "cell_type": "code",
      "source": [
        "def puntoFijo(F,v0,tol,Nmax):\n",
        "  v1=F(v0[0] , v0[1])\n",
        "  n=0\n",
        "  while(np.linalg.norm( v0 - v1 )>tol and n<Nmax):\n",
        "    v0=v1\n",
        "    v1=F(v0[0],v0[1])\n",
        "    n=n+1\n",
        "  return(v1)"
      ],
      "metadata": {
        "id": "lWgYJfiFCPA4"
      },
      "execution_count": null,
      "outputs": []
    },
    {
      "cell_type": "code",
      "source": [
        "v0=np.array([0,0.5])\n",
        "v=puntoFijo(F,v0,0.00001,50)\n",
        "print(\"v:\",v)\n",
        "print(\"F(v):\",F(v[0],v[1]))"
      ],
      "metadata": {
        "id": "LVTt7l9aCF-X",
        "colab": {
          "base_uri": "https://localhost:8080/"
        },
        "outputId": "201e152f-23b3-45e6-9a2d-b456f179ec0b"
      },
      "execution_count": null,
      "outputs": [
        {
          "output_type": "stream",
          "name": "stdout",
          "text": [
            "v: [0.68232644 0.68233312]\n",
            "F(v): [0.68232443 0.68232644]\n"
          ]
        }
      ]
    },
    {
      "cell_type": "markdown",
      "source": [
        "Algo similar podemos hacer con el método de **Newton**: $$\\textbf{x}_{n+1}=\\textbf{x}_n-J^{-1}(\\textbf{x}_n)F(\\textbf{x}_n),$$ donde $J(\\textbf{x})$ es la matriz Jacobiana o matriz diferencial."
      ],
      "metadata": {
        "id": "-gPy-CIOD8Li"
      }
    },
    {
      "cell_type": "markdown",
      "source": [
        "**Ejemplo:** Dado el siguiente sistema de ecuaciones, planetar un método de Newton para aproximar alguna solución. \n",
        "\n",
        "\\begin{cases}\n",
        "    x^2 + 2y^2 - 10 = 0 \\\\\n",
        "    x - e^{-2y} = 0 \\\\\n",
        "\\end{cases}"
      ],
      "metadata": {
        "id": "_W1cSsiZEt9B"
      }
    },
    {
      "cell_type": "markdown",
      "source": [
        "Definimos:\n",
        "\n",
        "$$\n",
        "F(x,y) = \\begin{pmatrix}\n",
        "f_1(x,y)  \\\\\n",
        "f_2(x,y) \n",
        "\\end{pmatrix} = \n",
        "\\begin{pmatrix}\n",
        "x^2 + 2y^2 - 10  \\\\\n",
        "x - e^{-2y} \n",
        "\\end{pmatrix}.\n",
        "$$\n",
        "\n",
        "Calculamos la matriz diferencial $J$\n",
        "\n",
        "$$\n",
        "\\begin{pmatrix}\n",
        "\\frac{\\partial f_1}{\\partial x} & \\frac{\\partial f_1}{\\partial y} \\\\\n",
        "\\frac{\\partial f_2}{\\partial x} & \\frac{\\partial f_2}{\\partial y} \n",
        "\\end{pmatrix}\n",
        "=\n",
        "\\begin{pmatrix}\n",
        "2x & 4y \\\\\n",
        "1 & 2e^{-2y} \n",
        "\\end{pmatrix} = J(x,y)\n",
        "$$"
      ],
      "metadata": {
        "id": "jpeSXgfsE1n5"
      }
    },
    {
      "cell_type": "code",
      "source": [
        "def F2(x,y):\n",
        "  ret_val = np.array( [x**2 + 2*y**2 - 10, x - np.exp(-2*y)] )\n",
        "  return ret_val\n",
        "\n",
        "def J(x,y):\n",
        "  ret_val = np.matrix( [[2*x, 4*y], [1, 2*np.exp(-2*y)]] )\n",
        "  return ret_val"
      ],
      "metadata": {
        "id": "8bC0PDfTFFUU"
      },
      "execution_count": null,
      "outputs": []
    },
    {
      "cell_type": "code",
      "source": [
        "def Newton(F,J,v0,tol,Nmax):\n",
        "  v1 = v0 - np.linalg.solve(J(v0[0],v0[1]),F(v0[0],v0[1]))\n",
        "  n=0\n",
        "  while(np.linalg.norm(v0-v1)>tol and n<Nmax):\n",
        "    v0 = v1\n",
        "    v1 = v0 - np.linalg.solve(J(v0[0],v0[1]),F(v0[0],v0[1])) \n",
        "    n = n+1\n",
        "  print(\"iteraciones realizadas:\",n)\n",
        "  return(v1)"
      ],
      "metadata": {
        "id": "zObpBccqFMtF"
      },
      "execution_count": null,
      "outputs": []
    },
    {
      "cell_type": "code",
      "source": [
        "v0=np.array([1,2])\n",
        "v=Newton(F2,J,v0,0.00001,200)\n",
        "print(\"v:\",v)\n",
        "print(\"F2(v)\",F2(v[0],v[1]))"
      ],
      "metadata": {
        "id": "aMA13zkvF2ej",
        "colab": {
          "base_uri": "https://localhost:8080/"
        },
        "outputId": "d3e62f54-146d-46ec-f3c8-ead1d0546f56"
      },
      "execution_count": null,
      "outputs": [
        {
          "output_type": "stream",
          "name": "stdout",
          "text": [
            "iteraciones realizadas: 3\n",
            "v: [0.01142322 2.23605339]\n",
            "F2(v) [ 2.61355382e-11 -2.96254341e-13]\n"
          ]
        }
      ]
    },
    {
      "cell_type": "markdown",
      "source": [
        "## Ejemplo de pizarron"
      ],
      "metadata": {
        "id": "cnDb45C-rw3P"
      }
    },
    {
      "cell_type": "code",
      "source": [
        "def g(x):\n",
        "  return(x**2-2*x+2)\n",
        "\n",
        "x=np.linspace(-1,3,1001)\n",
        "t=np.linspace(5/8,11/8,1001)\n",
        "y=np.linspace(0,2,1001)\n",
        "\n",
        "plt.hlines(y=0, xmin=-1, xmax=2)\n",
        "plt.vlines(x=0, ymin=-1, ymax=6)\n",
        "plt.axhline(y=5/8, xmin=-1, xmax=2)\n",
        "plt.axhline(y=11/8, xmin=-1, xmax=2)\n",
        "plt.plot(x,g(x),'b')\n",
        "plt.plot(t,g(t),'r')\n",
        "a=[0,5/8]\n",
        "b=[0,11/8]\n",
        "plt.plot(a[0],a[1],'^')\n",
        "plt.plot(b[0],b[1],'^')\n"
      ],
      "metadata": {
        "colab": {
          "base_uri": "https://localhost:8080/",
          "height": 282
        },
        "id": "FcqT18KZm_U2",
        "outputId": "bc50631e-4299-4bd3-d32f-ac4feda354dd"
      },
      "execution_count": null,
      "outputs": [
        {
          "output_type": "execute_result",
          "data": {
            "text/plain": [
              "[<matplotlib.lines.Line2D at 0x7f544533efd0>]"
            ]
          },
          "metadata": {},
          "execution_count": 31
        },
        {
          "output_type": "display_data",
          "data": {
            "text/plain": [
              "<Figure size 432x288 with 1 Axes>"
            ],
            "image/png": "[encoded data removed]"
          },
          "metadata": {
            "needs_background": "light"
          }
        }
      ]
    }
  ]
}