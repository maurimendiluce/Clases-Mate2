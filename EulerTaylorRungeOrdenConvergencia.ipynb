{
  "cells": [
    {
      "cell_type": "markdown",
      "metadata": {
        "id": "view-in-github",
        "colab_type": "text"
      },
      "source": [
        "<a href=\"https://colab.research.google.com/github/maurimendiluce/Clases-Mate2/blob/main/EulerTaylorRungeOrdenConvergencia.ipynb\" target=\"_parent\"><img src=\"https://colab.research.google.com/assets/colab-badge.svg\" alt=\"Open In Colab\"/></a>"
      ]
    },
    {
      "cell_type": "markdown",
      "source": [
        "## **Euler**\n",
        "- Problema de valores iniciales \n",
        "$$\n",
        "x'(t)=f(t,x(t)),\\qquad x(t_{0})=x_{0}\n",
        "$$\n",
        "- Método:\n",
        "$$\n",
        "x_{n+1}=x_{n}+hf(t_{n},x_{n}),\n",
        "$$\n",
        "donde $h$ es el paso y $t_n = t_0 + nh$."
      ],
      "metadata": {
        "id": "K8iDaeb0nUcf"
      }
    },
    {
      "cell_type": "code",
      "execution_count": null,
      "metadata": {
        "id": "KgpgqpIKfV2D"
      },
      "outputs": [],
      "source": [
        "import numpy as np\n",
        "import matplotlib.pyplot as plt\n",
        "\n",
        "def euler(f, t0, tn, x0, n):\n",
        "    t = np.linspace(t0,tn,n+1)\n",
        "    x = np.zeros(n+1)\n",
        "    x[0] = x0\n",
        "    h = (tn-t0)/n\n",
        "    for i in range(1,n+1):\n",
        "        x[i] = x[i-1]+h*f(t[i-1], x[i-1])\n",
        "    return((t,x))\n"
      ]
    },
    {
      "cell_type": "markdown",
      "metadata": {
        "id": "BCLRw7TzfV2F"
      },
      "source": [
        "###*Ejemplo* \n",
        "Lo aplicamos en el intervalo $[0, 5]$ al problema \n",
        "\n",
        "$$x'(t) = 2x(t) - 5 \\sin(t), \\quad x(0) = 1$$\n",
        "\n",
        "que tiene solución exacta $x(t) = 2 \\sin(t) + \\cos(t)$.\n"
      ]
    },
    {
      "cell_type": "code",
      "execution_count": null,
      "metadata": {
        "id": "iJ6dURpbfV2G",
        "outputId": "718c5a7f-018a-4f21-849a-3aa4991ec817",
        "colab": {
          "base_uri": "https://localhost:8080/",
          "height": 391
        }
      },
      "outputs": [
        {
          "output_type": "execute_result",
          "data": {
            "text/plain": [
              "[<matplotlib.lines.Line2D at 0x7f9f535800d0>]"
            ]
          },
          "metadata": {},
          "execution_count": 15
        },
        {
          "output_type": "display_data",
          "data": {
            "text/plain": [
              "<Figure size 720x432 with 1 Axes>"
            ],
            "image/png": "[encoded data removed]"
          },
          "metadata": {
            "needs_background": "light"
          }
        }
      ],
      "source": [
        "def f(t, x):\n",
        "    y = 2*x-5*np.sin(t)\n",
        "    return(y)\n",
        "\n",
        "def sol(t):\n",
        "    return(2 * np.sin(t) + np.cos(t))\n",
        "\n",
        "(t1, x1) = euler(f, 0, 5, 1, 10001)\n",
        "plt.figure(figsize=(10,6))\n",
        "plt.plot(t1, x1)\n",
        "plt.plot(t1, sol(t1))"
      ]
    },
    {
      "cell_type": "markdown",
      "metadata": {
        "id": "WJVAp964fV2J"
      },
      "source": [
        "###Orden de Convergencia en Euler\n",
        "\n",
        "\n",
        "*Ejemplo:* \n",
        "\n",
        "Para $h \\in  [0.1, 0.05, 0.025, 0.01, 0.005, 0.0025]$, aplicar el método de Euler con paso $h$. Calcular $E_N = |x_N - x(5)|$. Graficar $\\log(E_n)$ en función de $\\log(h)$."
      ]
    },
    {
      "cell_type": "code",
      "execution_count": null,
      "metadata": {
        "id": "NuxOr6RyfV2L"
      },
      "outputs": [],
      "source": [
        "h = [0.025, 0.01, 0.005, 0.0025, 0.001, 0.0005]\n",
        "nh = len(h)\n",
        "err = np.zeros(nh)\n",
        "for i in range(nh):\n",
        "    n = int(5/h[i])\n",
        "    (t, x) = euler(f, 0, 5, 1, n)\n",
        "    err[i] = abs(x[n]-sol(5))\n",
        "    print(h[i], x[n], sol(5))\n",
        "\n",
        "plt.figure(figsize=(10,6))\n",
        "plt.plot(np.log(h), np.log(err), '.', ms=5)\n",
        "plt.plot(np.log(h), np.log(err))\n"
      ]
    },
    {
      "cell_type": "markdown",
      "metadata": {
        "id": "aN4B5YSbfV2N"
      },
      "source": [
        "Importante: La pendiente de la recta obtenida nos da el orden de convergencia del método.\n",
        "(Observar que para pasos grandes ya no da tan bien. Por eso estimamos el valor de la pendiente con los ùltimos pasos) "
      ]
    },
    {
      "cell_type": "code",
      "execution_count": null,
      "metadata": {
        "id": "rpvX28g5fV2P"
      },
      "outputs": [],
      "source": [
        "print(\"Pendiente: \", (np.log(err[nh-1]) - np.log(err[nh-2])) / (np.log(h[nh-1]) - np.log(h[nh-2])))"
      ]
    },
    {
      "cell_type": "markdown",
      "metadata": {
        "id": "RTxUzMogfV2Q"
      },
      "source": [
        "#**Taylor**\n",
        "\n",
        "\n",
        "- Método:\n",
        "$$\n",
        "x_i = x_{i-1} + h f(t_{i-1}, x_{i-1}) + \\frac{h^2}{2} (f_t(t_{i-1}, x_{i-1}) + f_x(t_{i-1}, x_{i-1}) f(t_{i-1}, x_{i-1}))\n",
        "$$\n",
        "\n",
        "\n"
      ]
    },
    {
      "cell_type": "code",
      "execution_count": null,
      "metadata": {
        "id": "NAtMlqEYfV2R"
      },
      "outputs": [],
      "source": [
        "def taylor2(f, ft, fx, t0, tn, x0, n):\n",
        "    t = np.linspace(t0,tn,n+1)\n",
        "    x = np.zeros(n+1)\n",
        "    x[0] = x0\n",
        "    h = (tn-t0)/n\n",
        "    for i in range(1,n+1):\n",
        "        x[i] = x[i-1]+h*f(t[i-1], x[i-1])+h**2/2*(ft(t[i-1], x[i-1])+fx(t[i-1], x[i-1])*f(t[i-1], x[i-1]))\n",
        "    return((t,x))\n"
      ]
    },
    {
      "cell_type": "code",
      "execution_count": null,
      "metadata": {
        "id": "6oUHfwxwfV2S"
      },
      "outputs": [],
      "source": [
        "def f(t, x):\n",
        "    y = 2*x-5*np.sin(t)\n",
        "    return(y)\n",
        "\n",
        "def fx(t, x):\n",
        "    y = 2\n",
        "    return(y)\n",
        "\n",
        "def ft(t, x):\n",
        "    y = -5*np.cos(t)\n",
        "    return(y)\n",
        "\n",
        "(t2, x2) = taylor2(f, ft, fx, 0, 5, 1, 1001)\n",
        "plt.figure(figsize=(10,6))\n",
        "plt.plot(t2,x2)\n",
        "plt.plot(t2,sol(t2))\n"
      ]
    },
    {
      "cell_type": "markdown",
      "source": [
        "###Orden de Convergencia en Taylor"
      ],
      "metadata": {
        "id": "virhiI3fvhzj"
      }
    },
    {
      "cell_type": "code",
      "execution_count": null,
      "metadata": {
        "id": "yd2JF-_7fV2T"
      },
      "outputs": [],
      "source": [
        "h = [0.1, 0.05, 0.025, 0.01, 0.005, 0.0025]\n",
        "nh = len(h)\n",
        "err = np.zeros(nh)\n",
        "for i in range(nh):\n",
        "    n = int(5/h[i])\n",
        "    (t, x) = taylor2(f, ft, fx, 0, 5, 1, n)\n",
        "    err[i] = abs(x[n]-sol(5))\n",
        "    print(h[i], x[n], sol(5))\n",
        "\n",
        "\n",
        "plt.figure(figsize=(10,6))\n",
        "plt.plot(np.log(h), np.log(err), '.', ms=5)\n",
        "plt.plot(np.log(h), np.log(err))\n",
        "\n",
        "print(\"Pendiente: \", (np.log(err[nh-1]) - np.log(err[nh-2])) / (np.log(h[nh-1]) - np.log(h[nh-2])))"
      ]
    },
    {
      "cell_type": "markdown",
      "metadata": {
        "id": "4900PB5HfV2U"
      },
      "source": [
        "#**Euler Modificado**:\n",
        "\n",
        "-Método:\n",
        "\n",
        "$$\n",
        "x_i = x_{i-1} + h f(t_{i-1} + h/2, x_{i-1} + h/2 f(t_{i-1}, x_{i-1}))\n",
        "$$\n",
        "\n"
      ]
    },
    {
      "cell_type": "code",
      "execution_count": null,
      "metadata": {
        "id": "EOXb1ACHfV2V"
      },
      "outputs": [],
      "source": [
        "def eulerM(f, t0, tn, x0, n):\n",
        "    t = np.linspace(t0,tn,n+1)\n",
        "    x = np.zeros(n+1)\n",
        "    x[0] = x0\n",
        "    h = (tn-t0)/n\n",
        "    for i in range(1,n+1):\n",
        "        x[i] = x[i-1]+h*f(t[i-1] + h/2, x[i-1] + h/2 * f(t[i-1], x[i-1]))\n",
        "    return((t,x))\n",
        "\n",
        "(t3, x3) = eulerM(f, 0, 5, 1, 1001)\n",
        "plt.figure(figsize=(10,6))\n",
        "plt.plot(t3,x3)\n",
        "plt.plot(t2,x2)\n",
        "plt.plot(t3,sol(t3))"
      ]
    },
    {
      "cell_type": "markdown",
      "source": [
        "###Orden de Convergencia en Euler Modificado"
      ],
      "metadata": {
        "id": "mvqqisZc9OKc"
      }
    },
    {
      "cell_type": "code",
      "execution_count": null,
      "metadata": {
        "id": "aNJCnGP1fV2W"
      },
      "outputs": [],
      "source": [
        "h = [0.1, 0.05, 0.025, 0.01, 0.005, 0.0025]\n",
        "nh = len(h)\n",
        "err = np.zeros(nh)\n",
        "for i in range(nh):\n",
        "    n = int(5/h[i])\n",
        "    (t, x) = eulerM(f, 0, 5, 1, n)\n",
        "    err[i] = abs(x[n]-sol(5))\n",
        "    print(h[i], x[n], sol(5))\n",
        "\n",
        "plt.figure(figsize=(10,6))\n",
        "plt.plot(np.log(h), np.log(err), '.', ms=5)\n",
        "plt.plot(np.log(h), np.log(err))\n",
        "\n",
        "print(\"Pendiente: \", (np.log(err[nh-1]) - np.log(err[nh-2])) / (np.log(h[nh-1]) - np.log(h[nh-2])))"
      ]
    },
    {
      "cell_type": "markdown",
      "metadata": {
        "id": "Hj1LgTxUfW_Y"
      },
      "source": [
        "#**Euler Implícito**\n",
        "\n",
        "- Método:\n",
        "\n",
        "$$\n",
        "x_{n+1} = x_n + h f(t_{n+1}, x_{n+1}),\n",
        "$$ \n",
        "\n"
      ]
    },
    {
      "cell_type": "markdown",
      "source": [
        "#*Ejemplo*\n",
        "\n",
        "- Resolver la siguiente ecuación en el intervalo $[1, 3]$ por el método de Euler ímplicito:\n",
        "\n",
        "$$\n",
        "x'(t) = 4 \\frac{x(t)}{t}, \\quad x(1) = 1\n",
        "$$\n",
        "\n",
        "- Comparar con la solución exacta: $x(t) = t^4$."
      ],
      "metadata": {
        "id": "wlYqFInu24sm"
      }
    },
    {
      "cell_type": "markdown",
      "source": [
        "Como $f(t, x) = 4 \\frac{x}{t}$, reemplazamos:\n",
        "$$\n",
        "x_{n+1} = x_n + h \\left( 4 \\frac{x_{n+1}}{t_{n+1}} \\right)\n",
        "$$\n",
        "Despejando $x_{n+1}$ y usando que  $t_{n+1} = t_n + h$ obtenemos:\n",
        "\n",
        "$$\n",
        "x_{n+1} = x_n  \\frac{t_n + h}{t_n  - 3h}\n",
        "$$\n",
        "\n",
        "\n"
      ],
      "metadata": {
        "id": "YZqrsxed3kOy"
      }
    },
    {
      "cell_type": "code",
      "execution_count": null,
      "metadata": {
        "id": "qy9xn90UfW_e"
      },
      "outputs": [],
      "source": [
        "import numpy as np\n",
        "import matplotlib.pyplot as plt\n",
        "\n",
        "def eulerI(t0, tn, x0, n):\n",
        "    t = np.linspace(t0, tn, n+1)\n",
        "    x = np.zeros(n+1)\n",
        "    x[0] = x0\n",
        "    h = (tn-t0)/n\n",
        "    for i in range(1,n+1):\n",
        "        x[i] = x[i-1]*(t[i-1]+h)/(t[i-1]-3*h)\n",
        "    return((t,x))\n",
        "\n",
        "(t, x1) = eulerI(1, 10, 1, 400)\n",
        "plt.figure(figsize=(10,6))\n",
        "plt.plot(t, x1, label = 'euler implicito')\n",
        "plt.plot(t,t**4, label = 'solucion exacta')\n",
        "plt.legend(loc='upper left')\n",
        "     \n",
        "        "
      ]
    },
    {
      "cell_type": "markdown",
      "metadata": {
        "id": "s1LX3CzgfW_u"
      },
      "source": [
        "##Grafiquemos las curvas obtenidas con Euler explícito, implícito, y solución exacta."
      ]
    },
    {
      "cell_type": "code",
      "execution_count": null,
      "metadata": {
        "id": "7bC5U4oBfW_1"
      },
      "outputs": [],
      "source": [
        "def euler(f, t0, tn, x0, n):\n",
        "    t = np.linspace(t0, tn, n+1)\n",
        "    x = np.zeros(n+1)\n",
        "    x[0] = x0\n",
        "    h = (tn-t0)/n\n",
        "    for i in range(1,n+1):\n",
        "        x[i] = x[i-1] + h * f(t[i-1], x[i-1])\n",
        "    return((t,x))\n",
        "\n",
        "def f(t, x):\n",
        "    return(4*x/t)\n",
        "\n",
        "(t, x1) = euler(f, 1, 10, 1, 200)\n",
        "(t, x2) = eulerI(1, 10, 1, 200)\n",
        "plt.figure(figsize=(10,6))\n",
        "plt.plot(t,x1, label = 'euler explicito')\n",
        "plt.plot(t,x2, label = 'euler implicito')\n",
        "plt.plot(t,t**4, label = 'solucion exacta')\n",
        "plt.legend(loc='upper left')\n",
        "\n"
      ]
    },
    {
      "cell_type": "markdown",
      "metadata": {
        "id": "1rQE7JLrfW_4"
      },
      "source": [
        "# **Métodos de Runge-Kutta**\n",
        "\n",
        "- Método de Runge Kutta de orden 2:\n",
        "$$\n",
        "x_{n+1} =x_{n}+{\\frac {1}{6}}h\\left(k_{1}+2k_{2}+2k_{3}+k_{4}\\right),\\\\\n",
        "$$\n",
        "con\n",
        "\n",
        "$$\n",
        "\\begin{aligned}k_{1}&=\\ f(t_{n},x_{n}),\\\\k_{2}&=\\ f\\left(t_{n}+{\\frac {h}{2}},x_{n}+h{\\frac {k_{1}}{2}}\\right),\\\\k_{3}&=\\ f\\left(t_{n}+{\\frac {h}{2}},x_{n}+h{\\frac {k_{2}}{2}}\\right),\\\\k_{4}&=\\ f\\left(t_{n}+h,x_{n}+hk_{3}\\right).\\end{aligned}\n",
        "$$\n",
        "    "
      ]
    },
    {
      "cell_type": "markdown",
      "source": [
        "#*Ejemplo:* \n",
        "\n",
        "Resolver la ecuación $x'(t) = x(t)$, $x(0) = 1$, en el intervalo $[0, 5]$ y comparar con la solución exacta $x(t) = e^t$."
      ],
      "metadata": {
        "id": "SamGOE278lVZ"
      }
    },
    {
      "cell_type": "code",
      "execution_count": null,
      "metadata": {
        "id": "F404Kvk5fW_6"
      },
      "outputs": [],
      "source": [
        "import math\n",
        "def RK(f, t0, tn, x0, n):\n",
        "    t = np.linspace(t0, tn, n+1)\n",
        "    x = np.zeros(n+1)\n",
        "    x[0] = x0\n",
        "    h = (tn-t0)/n\n",
        "    for i in range(1,n+1):\n",
        "        k1 = f(t[i-1], x[i-1])\n",
        "        k2 = f(t[i-1] + h/2, x[i-1] + h*k1/2)\n",
        "        k3 = f(t[i-1] + h/2, x[i-1] + h*k2/2)\n",
        "        k4 = f(t[i-1] + h, x[i-1] + h*k3)\n",
        "        x[i] = x[i-1] + (1/6) * h * (k1 + 2*k2 + 2*k3 + k4)\n",
        "    return((t,x))\n",
        "\n",
        "def f(t, x):\n",
        "    return(x)\n",
        "\n",
        "def sol(t):\n",
        "    return(math.e**t)\n",
        "\n",
        "(t1, x1) = RK(f, 0, 5, 1, 10)\n",
        "plt.figure(figsize=(10,6))\n",
        "plt.plot(t1,x1, label = 'Runge-Kutta')\n",
        "\n",
        "t = np.linspace(0, 5, 1000)\n",
        "plt.plot(t,math.e**t, label = 'solucion exacta')\n",
        "plt.legend(loc='upper left')\n",
        "\n",
        "\n"
      ]
    },
    {
      "cell_type": "markdown",
      "metadata": {
        "id": "yFSf9Cb_fW_9"
      },
      "source": [
        "##Estimación del error global para distintos valores de $h$.\n"
      ]
    },
    {
      "cell_type": "code",
      "execution_count": null,
      "metadata": {
        "id": "oPkfxbLtfW_-"
      },
      "outputs": [],
      "source": [
        "h = [0.1, 0.05, 0.025, 0.01, 0.005, 0.0025]\n",
        "nh = len(h)\n",
        "err = np.zeros(nh)\n",
        "for i in range(nh):\n",
        "    n = int(5/h[i])\n",
        "    (t, x) = RK(f, 0, 5, 1, n)\n",
        "    err[i] = abs(x[n]-sol(5))\n",
        "    print(h[i], x[n], sol(5))\n",
        "    \n",
        "plt.figure(figsize=(10,6))\n",
        "plt.plot(np.log(h), np.log(err), '.', ms=5)\n",
        "plt.plot(np.log(h), np.log(err))\n",
        "\n",
        "print(\"Pendiente: \", (np.log(err[nh-1]) - np.log(err[nh-2])) / (np.log(h[nh-1]) - np.log(h[nh-2])))"
      ]
    }
  ],
  "metadata": {
    "kernelspec": {
      "display_name": "Python 3",
      "language": "python",
      "name": "python3"
    },
    "language_info": {
      "codemirror_mode": {
        "name": "ipython",
        "version": 3
      },
      "file_extension": ".py",
      "mimetype": "text/x-python",
      "name": "python",
      "nbconvert_exporter": "python",
      "pygments_lexer": "ipython3",
      "version": "3.7.6"
    },
    "colab": {
      "provenance": [],
      "include_colab_link": true
    }
  },
  "nbformat": 4,
  "nbformat_minor": 0
}