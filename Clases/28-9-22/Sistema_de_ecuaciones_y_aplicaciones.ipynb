{
  "nbformat": 4,
  "nbformat_minor": 0,
  "metadata": {
    "colab": {
      "provenance": [],
      "authorship_tag": "ABX9TyMOQBL7qpNL4i6aqV8TOfID",
      "include_colab_link": true
    },
    "kernelspec": {
      "name": "python3",
      "display_name": "Python 3"
    },
    "language_info": {
      "name": "python"
    }
  },
  "cells": [
    {
      "cell_type": "markdown",
      "metadata": {
        "id": "view-in-github",
        "colab_type": "text"
      },
      "source": [
        "<a href=\"https://colab.research.google.com/github/maurimendiluce/Clases-Mate2/blob/main/Sistema_de_ecuaciones_y_aplicaciones.ipynb\" target=\"_parent\"><img src=\"https://colab.research.google.com/assets/colab-badge.svg\" alt=\"Open In Colab\"/></a>"
      ]
    },
    {
      "cell_type": "markdown",
      "source": [
        "## **Sistemas de ecuaciones diferenciales**\n",
        "\n",
        "$$\\left\\{\n",
        "\\begin{align}\n",
        "\\textbf{x}'(t) &= \\textbf{f}(t,\\textbf{x}(t)) \\\\\n",
        "\\textbf{x}'(t_0) &= \\textbf{x}_0\n",
        "\\end{align}\n",
        "\\right.\n",
        "$$\n",
        "por ejemplo, \n",
        "$$\\left\\{\n",
        "\\begin{align}\n",
        "x'(t) &= f_1(t,x(t),y(t)) \\\\\n",
        "y'(t) &= f_2(t,x(t),y(t))  \\\\\n",
        "x(0) &= x_0, \\quad \\ y(0) = y_0\n",
        "\\end{align}\n",
        "\\right.\n",
        "$$"
      ],
      "metadata": {
        "id": "xoAnQNpdcw3P"
      }
    },
    {
      "cell_type": "markdown",
      "source": [
        "Para resolver podemos usar, por ejemplo, método de Euler o el comando $\\texttt{solve_ivp}$ de la libreria $\\texttt{scipy.integrate}$ (https://docs.scipy.org/doc/scipy/reference/generated/scipy.integrate.solve_ivp.html). Veamoslo en dos aplicaciones."
      ],
      "metadata": {
        "id": "1TzfNM5he6QC"
      }
    },
    {
      "cell_type": "markdown",
      "source": [
        "### **Ejemplo 1: Modelo depredador-presa (Lotka–Volterra)**\n",
        "\n",
        "Cuando estudiamos el crecimiento de una población se tiene en cuenta la tasa de crecimiento de la población natural, es decir bajo la condición de recursos ilimitados. También se considera el caso de recursos que se agotan, pero siempre tomando una sola especie. Vamos a analizar ahora la evolución de poblaciones que interactúan. Por simplicidad vamos a tomar dos especies, la primera que llamaremos predador, la que se alimenta de la segunda especie, a la que denominaremos presa. Asumimos algunas hipótesis:\n",
        "\n",
        "*   los predadores tienen como única fuente de alimentación a las presas\n",
        "*   las presas cuentan con recursos ilimitados,\n",
        "*   la única amenaza de las presas son los predadores.\n",
        "\n",
        "Denotamos $x(t)$ e $y(t)$ el número de individuos de predadores y de presas a tiempo $t$, respectivamente. En ausencia de presas, $y(t) = 0$, $x(t)$ decae con tasa $\\alpha$; mientras que en ausencia de predadores, $x(t) = 0$, $x(t)$ crece con tasa $\\beta$. Además, los encuentros entre individuos de cada especie hacen crecer la población de los predadores, mientras que decrece la poblaci´on de las presas, en forma proporcional al número de encuentros $n(t)$ por unidad de tiempo. Siendo que $n(t)$ es proporcional al número de predadores y al número de presas, vemos que $n(t) = k x(t) y(t)$. De esto modo, se obtiene el sistema Lokta-Volterra:\n",
        "\n",
        "$$\\left\\{\n",
        "\\begin{align}\n",
        "x'(t) &= -αx(t)+γx(t)y(t) \\\\\n",
        "y'(t) &= βy(t)-δx(t)y(t)\n",
        "\\end{align}\n",
        "\\right.\n",
        "$$\n",
        "\n",
        "donde $γ$ y $δ$ ponderan el efecto de $n(t)$ en la tasa de crecimiento de predarores y presas, respectivamente.\n",
        "\n",
        "Tomar $α=0.25$, $β=1$, $γ=δ=0.01$."
      ],
      "metadata": {
        "id": "pI9vzVHdLEuw"
      }
    },
    {
      "cell_type": "code",
      "source": [
        "import numpy as np\n",
        "import matplotlib.pyplot as plt\n",
        "from scipy.integrate import solve_ivp"
      ],
      "metadata": {
        "id": "DwGnK79eRL7a"
      },
      "execution_count": 1,
      "outputs": []
    },
    {
      "cell_type": "code",
      "source": [
        "#Ejemplo con Euler\n",
        "def f1(t,x,y,alpha,beta,gamma,delta):\n",
        "    return(-alpha*x + gamma*x*y)\n",
        "def f2(t,x,y,alpha,beta,gamma,delta):\n",
        "    return(beta*y - delta*x*y)\n",
        "\n",
        "def euler(f1, f2, t0, tn, x0, y0, n):\n",
        "    t = np.linspace(t0,tn,n+1)\n",
        "    x = np.zeros(n+1)\n",
        "    y = np.zeros(n+1)\n",
        "    x[0] = x0\n",
        "    y[0] = y0\n",
        "    h = (tn-t0)/n\n",
        "    for i in range(1,n+1):\n",
        "        x[i] = x[i-1]+h*f1(t[i-1], x[i-1], y[i-1],alpha,beta,gamma,delta)\n",
        "        y[i] = y[i-1]+h*f2(t[i-1], x[i-1], y[i-1],alpha,beta,gamma,delta)\n",
        "    return((t,x,y))\n",
        "\n",
        "t0=0\n",
        "tn=60\n",
        "alpha=0.25\n",
        "beta=1\n",
        "gamma=0.01\n",
        "delta=0.01\n",
        "x0=25\n",
        "y0=100\n",
        "n=1000\n",
        "\n",
        "(t,x,y) = euler(f1, f2, t0, tn, x0, y0, n)\n",
        "plt.plot(t, x, label=\"predador\")\n",
        "plt.plot(t, y, label=\"presa\")\n",
        "plt.legend(loc = \"upper left\")"
      ],
      "metadata": {
        "id": "2PmFQ2k-R-o0"
      },
      "execution_count": null,
      "outputs": []
    },
    {
      "cell_type": "code",
      "source": [
        "#grafico las trayectorias\n",
        "plt.plot(x,y)"
      ],
      "metadata": {
        "id": "RZy4KsMtW2m7"
      },
      "execution_count": null,
      "outputs": []
    },
    {
      "cell_type": "code",
      "source": [
        "#Ejemplo con solve_ivp\n",
        "\n",
        "def lotkavolterra(t,z,alpha,beta,gamma,delta):\n",
        "    x, y = z\n",
        "    return [-alpha*x + gamma*x*y, beta*y - delta*x*y]\n",
        "\n",
        "sol = solve_ivp(lotkavolterra, [t0, tn], [x0, y0], args=(alpha, beta, gamma, delta),dense_output=True)\n",
        "\n",
        "t = np.linspace(t0, tn, 300)\n",
        "z = sol.sol(t)\n",
        "plt.plot(t, z.T)\n",
        "plt.xlabel('t')\n",
        "plt.legend(['predador', 'presa'], shadow=True)\n",
        "plt.title('Lotka-Volterra System')"
      ],
      "metadata": {
        "id": "1t0WjDEtRjZl"
      },
      "execution_count": null,
      "outputs": []
    },
    {
      "cell_type": "code",
      "source": [
        "#Problema linealizado\n",
        "def g1(t,x,y,alpha,beta,gamma,delta):\n",
        "    return(#completar)\n",
        "def g2(t,x,y,alpha,beta,gamma,delta):\n",
        "    return(#completar)\n",
        "\n",
        "(t,xx,yy) = euler(g1, g2, t0, tn,x0, y0, n)\n",
        "plt.plot(t, xx, label=\"predador\")\n",
        "plt.plot(t, yy, label=\"presa\")\n",
        "plt.legend()"
      ],
      "metadata": {
        "id": "jxcH8XY1Z5Zx"
      },
      "execution_count": null,
      "outputs": []
    },
    {
      "cell_type": "code",
      "source": [
        "plt.plot(xx,yy)\n",
        "plt.xlabel('predador')\n",
        "plt.ylabel('presa')"
      ],
      "metadata": {
        "id": "imB4DwH1fT0d"
      },
      "execution_count": null,
      "outputs": []
    },
    {
      "cell_type": "markdown",
      "source": [
        "## **Ejemplo 2: Modelo epidemiológico SIR**\n",
        "\n",
        "Uno de los modelos epidemilógicos más usados es el denominado modelo SIR, que fue propuesto por W. O. Kermack y A. G. McKendrick en 1927.\n",
        "\n",
        "En una población de tamaño fijo $N$ en la que se ha desatado una epidemia que se propaga mediante contagio, en un tiempo $t$ los individuos pueden estar en tres estados distintos:\n",
        "\n",
        "\n",
        "*   susceptibles $S(t)$,\n",
        "*   infectados $I(t)$,\n",
        "*   recuperados $R(t)$.\n",
        "\n",
        "($S(t) + I(t) + R(t) = N$)\n",
        "\n",
        "Los susceptibles se pueden infectar cuando entran en contacto con contagiados, con un parámetro $β$ denominado tasa de infección, y cuyo valor depende de si la enfermedad es más o menos contagiosa. Así mismo, los infectados se recuperan con el tiempo, con un parámetro γ denominado tasa de recuperación y que depende del tiempo que suele durar la enfermedad; una vez que se recuperan, los individuos son inmunes, ya no vuelven a ser susceptibles (de hecho, también podemos pensar que no todos los individuos se «recuperan», sino que pueden morir a causa de la enfermedad: ambos tipos de casos están recogidos en $R(t)$, y ya no afectan al desarrollo de la epidemia). De acuerdo al comportamiento descrito, la evolución de la epidemia se modela mediante el siguiente sistema de ecuaciones diferenciales:\n",
        "\n",
        "$$\\left\\{\n",
        "\\begin{align}\n",
        "S'(t) &= -βS(t)I(t)/N\\\\\n",
        "I'(t) &= βS(t)I(t)/N-γI(t)\\\\\n",
        "R'(t) &= γI(t)\n",
        "\\end{align}\n",
        "\\right.\n",
        "$$\n",
        "\n",
        "En el instante inicial, el número de infectados es $I(0) = I_0$; además, $S(0) = N − I_0$ y $R(0) = 0$. Los parámetros $β$ y $γ$ son, respectivamente, la tasa de transmisión (mide la probabilidad de que un susceptible se infecte cuando entra en contacto con un infectado) y la tasa de recuperación (de tal manera que el periodo medio de recuperación es $1/γ$) de la enfermedad, y dependiendo de cuál sea su valor el desarrollo de la epidemia (cuánto dura o el número total de infectados, por ejemplo) puede ser muy distinto.\n",
        "En una epidemia, un parámetro muy importante es $R_0 = \\frac{β}{γ}$\n",
        "que se denomina «tasa básica de reproducción», y que representa el número de nuevos infectados producidos por un sólo infectado si toda la población es susceptible (esta idea se ve mejor sin\n",
        "más que escribir $R_0 = \\frac{γ^{-1}}{β^{-1}}$, dado que $γ^{-1}$ y $β^{-1}$ son el periodo medio de recuperación y el tiempo típico entre contactos). Cuanto más pequeño sea $R_0$, de manera más lenta evolucionará la epidemia (en la práctica, y para una epidemia real concreta, la observación de la epidemia permite medir $R_0$ y, a partir de ahí, estimar $β$).\n",
        "\n",
        "Veamos un ejemplo de evolución de una enfermedad contagiosa a lo \n",
        "largo de un año (el tiempo lo medimos en meses) sobre una población de $N = 100000$ personas, parámetros $β = 1$\n",
        "y $γ = 1/4$ (la enfermedad dura, de media, cuatro meses), y un número inicial de infectados $I_0 = 2000$.\n",
        "\n",
        "$a)$ Utilizar el método de Euler modificado para resolver el sistema. \n",
        "\n",
        "$b)$ Graficar las aproximaciones de $S(t)$, $I(t)$ y $R(t)$ en un mismo grafico para analizar la evolución de la epidemia."
      ],
      "metadata": {
        "id": "-nrJs0m-SQ4Y"
      }
    },
    {
      "cell_type": "code",
      "source": [
        "N=100000\n",
        "beta=1\n",
        "gamma=0.25\n",
        "def f(t, v):\n",
        "    (S,I,R) = v\n",
        "    return(np.array([#completar]))"
      ],
      "metadata": {
        "id": "9QTGq3Il0L8I"
      },
      "execution_count": 14,
      "outputs": []
    },
    {
      "cell_type": "markdown",
      "source": [
        "Método: \n",
        "$$\n",
        "x_{n}=x_{n-1}+hf\\left(t_{n-1}+{\\frac {h}{2}},x_{n-1}+{\\frac {h}{2}}f(t_{n-1},x_{n-1})\\right)\n",
        "$$"
      ],
      "metadata": {
        "id": "cZdaTwsh0iA2"
      }
    },
    {
      "cell_type": "code",
      "source": [
        "def eulerModificado(f,t0,tn,x0,n):\n",
        "  t=np.linspace(t0,tn,n+1)\n",
        "  m=len(x0)\n",
        "  x=np.zeros((m,n+1))\n",
        "  x[:,0]=x0\n",
        "  h=(tn-t0)/n\n",
        "  for i in range(1,n+1):\n",
        "    #metodo\n",
        "  return(t,x)\n",
        "\n",
        "x0=np.array([#completar])\n",
        "(t,x)=eulerModificado(f,0,12,x0,1000)\n",
        "\n",
        "#graficar en el mismo gráfico las tres funciones"
      ],
      "metadata": {
        "id": "uUbIKD561QfX"
      },
      "execution_count": null,
      "outputs": []
    }
  ]
}
