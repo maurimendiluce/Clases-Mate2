{
  "cells": [
    {
      "cell_type": "markdown",
      "metadata": {
        "id": "view-in-github",
        "colab_type": "text"
      },
      "source": [
        "<a href=\"https://colab.research.google.com/github/maurimendiluce/Clases-Mate2/blob/main/Clase_7_0_22_Punto_Fijo_y_Secante.ipynb\" target=\"_parent\"><img src=\"https://colab.research.google.com/assets/colab-badge.svg\" alt=\"Open In Colab\"/></a>"
      ]
    },
    {
      "cell_type": "markdown",
      "metadata": {
        "id": "rCWnzU6_-6SL"
      },
      "source": [
        "# **Método de Punto Fijo**\n",
        "\n"
      ]
    },
    {
      "cell_type": "markdown",
      "metadata": {
        "id": "NPI3BljR_xZI"
      },
      "source": [
        "La idea es reemplazar la ecuación $f(x) = 0$ por otra de la forma $x = g(x)$ de manera que la solución de esta sea la solución del problema original. Se comienza con un $x_0$ y se tiene $x_{n+1}=g(x_n)$. \n",
        "\n",
        "**Algunas ventajas:**\n",
        "\n",
        "*   No necesitamos un intervalo para aproximar la solución, solo darle un punto $x_0$.\n",
        "*   No necesitamos calcular o estimar la derivada de una función.\n",
        "\n",
        "**Algunas desventajas:**\n",
        "\n",
        "*   No siempre se podrá resolver resolver $f(x)=0$\n",
        "*   Puede no ser facil encontrar la $g(x)$ y de haber muchas podría ser complicado encontrar la adecuada.\n",
        "*   La convergencia depende de $|g'(x)|$.\n",
        "\n",
        "\n"
      ]
    },
    {
      "cell_type": "markdown",
      "source": [
        "**Observación:** El métodod de Newton es también un método de punto fijo, dado que se busca una solución de $x=x-\\frac{f(x)}{f'(x)}$. En este caso $g(x)=x-\\frac{f(x)}{f'(x)}$. "
      ],
      "metadata": {
        "id": "-JUUND8qIZJj"
      }
    },
    {
      "cell_type": "code",
      "execution_count": null,
      "metadata": {
        "id": "6WGEwaRR-s2Z"
      },
      "outputs": [],
      "source": [
        "import numpy as np\n",
        "import matplotlib.pyplot as plt"
      ]
    },
    {
      "cell_type": "markdown",
      "source": [
        "Queremos aproximar la solución de $x^2-4=0$. Sumando $x$ de ambos lados se obtiene. $x^2+x-4=x$. Consideramos entonces $g(x)=x^2+x-4$"
      ],
      "metadata": {
        "id": "q6BVywUbJln_"
      }
    },
    {
      "cell_type": "code",
      "source": [
        "def g2(x):\n",
        "  return(x**2+x-4)\n",
        "\n",
        "def puntoFijo1(x0,n):\n",
        "    x = x0\n",
        "    for i in range(n+1):\n",
        "        x = g2(x)\n",
        "    return(x)\n",
        "\n",
        "x = puntoFijo2(3, 5)\n",
        "print(x, g(x))"
      ],
      "metadata": {
        "id": "Ikr61kOlJuRF"
      },
      "execution_count": null,
      "outputs": []
    },
    {
      "cell_type": "markdown",
      "metadata": {
        "id": "n4uU4XfjCWFB"
      },
      "source": [
        "Haciendo alguna cuenta llegamos a $\\left(\\frac{x^2}{2}+2\\right)^{1/2}=x$.\n",
        "Implementar ahora el mismo programa anterior que reciba un valor inicial $x_0$ y un entero $n$ y aplique $n$ pasos del método de punto fijo $x_{n+1} = g(x_n)$.\n",
        "\n",
        "Considerar para el método la función \n",
        "$$\n",
        "g(x) = \\left(\\frac{x^2}{2}+2\\right)^{1/2}\n",
        "$$"
      ]
    },
    {
      "cell_type": "code",
      "execution_count": null,
      "metadata": {
        "id": "d1eb3ID3CVXZ"
      },
      "outputs": [],
      "source": [
        "def g(x):\n",
        "    y = ((x**2)/2+2)**(1/2)\n",
        "    return(y)\n",
        "\n",
        "def puntoFijo2(x0,n):\n",
        "    x = x0\n",
        "    for i in range(n+1):\n",
        "        x = g(x)\n",
        "    return(x)\n",
        "\n",
        "x = puntoFijo1(10, 50)\n",
        "print(x, g(x))"
      ]
    },
    {
      "cell_type": "markdown",
      "metadata": {
        "id": "AA0PkA3SDHHO"
      },
      "source": [
        "Modificar el programa anterior para que termine cuando se alcance una precisión de $10^{-8}$. Es decir, $|g(x_n)- x_n| < 10^{-8}$.\n",
        "\n",
        "Ahora sumando que a la función puntoFijo se le pueda ingresar como argumento la función $g$."
      ]
    },
    {
      "cell_type": "code",
      "execution_count": null,
      "metadata": {
        "id": "o_1-sfIfDK78"
      },
      "outputs": [],
      "source": [
        "def puntoFijo(g,x0,n):\n",
        "    x = x0\n",
        "    for i in range(n+1):\n",
        "        x = g(x)\n",
        "        if(abs(x-g(x))<10**(-8)):\n",
        "            return(x)\n",
        "    print(\"No se alcanzó convergencia!\")\n",
        "    return(x)\n",
        "\n",
        "x = puntoFijo(g, 10, 100)\n",
        "print(x, g(x))"
      ]
    },
    {
      "cell_type": "markdown",
      "metadata": {
        "id": "qY00dljwDxvU"
      },
      "source": [
        "Modificar el programa para que grafique los pasos de la iteración.\n",
        "\n",
        "Graficar en el mismo gráfico la función $g(x)$ y la recta $y = x$."
      ]
    },
    {
      "cell_type": "code",
      "execution_count": null,
      "metadata": {
        "id": "boG2R3XdDxSt"
      },
      "outputs": [],
      "source": [
        "def puntoFijo(g,x0,n):\n",
        "    x = x0\n",
        "    for i in range(n):\n",
        "        # Graficar los segmentos (xi, g(xi))->(g(xi), g(xi))->(g(xi), g(g(xi)))\n",
        "        #xi = (x, g(x), g(x))\n",
        "        #yi = (g(x), g(x), g((g(x))))\n",
        "        #plt.plot(xi, yi, 'g')\n",
        "        x = g(x)\n",
        "        if(abs(x-g(x))<10**(-8)):\n",
        "            return(x)\n",
        "    print(\"No se alcanzó convergencia!\")\n",
        "    return(x)\n",
        "\n",
        "x = puntoFijo(g, 10, 100)\n",
        "print(x, g(x))\n",
        "\n",
        "t = np.linspace(1, 10, 101)\n",
        "plt.plot(t, t)\n",
        "plt.plot(t, g(t))"
      ]
    },
    {
      "cell_type": "markdown",
      "metadata": {
        "id": "wjq_3jRaEW-Q"
      },
      "source": [
        "Realizar el mismo gráfico para \n",
        "$$g_2(x) = \\left(\\frac{(4-x)^2}{2}+2\\right)^{1/2}$$\n",
        "Modificar la función puntoFijo usando ahora que tome como parametros una cantidad máxima de iteraciones y una tolerancia de error. Sugerencia: utilizar la condición 'while'.\n"
      ]
    },
    {
      "cell_type": "code",
      "execution_count": null,
      "metadata": {
        "id": "gVkJTCWDEwoY"
      },
      "outputs": [],
      "source": [
        "#completar"
      ]
    },
    {
      "cell_type": "markdown",
      "metadata": {
        "id": "5zw3DgsV-4mE"
      },
      "source": [
        "**Ejercicio** \n",
        "\n",
        "Queremos resolver $f(x)=0$ con $f(x)=\\frac{1}{2}\\sin(x)-x+1$. Utilizar el programa ya hecho. \n"
      ]
    },
    {
      "cell_type": "markdown",
      "source": [
        "# **Método de la Secante**"
      ],
      "metadata": {
        "id": "MQhfVTkYJ3SG"
      }
    },
    {
      "cell_type": "markdown",
      "source": [
        "El método de la secante es similar al método de Newton, la diferencia consiste en que en lugar de usar la recta tangente por el punto donde estamos actualmente, tomamos la recta secante que pasa por los últimos dos puntos obtenidos por el método.\n",
        "\n",
        "La ecuación de la secante que une los puntos $(x_{n−1}, f(x_{n−1}))$ y $(x_n, f(x_n))$ es $$y = f(x_n) + (x − x_n)\\frac{f(x_n) − f(x_{n−1})}{x_n-x_{n-1}}$$\n",
        "\n",
        "Igualando a $0$ y despejando se tiene $$x_{n+1} = x_n − f(x_n)\\frac{x_n − x_{n−1}}{f(x_n)-f(x_{n-1})}$$"
      ],
      "metadata": {
        "id": "3n93onrSuQ2X"
      }
    },
    {
      "cell_type": "markdown",
      "source": [
        "Estudiemos como es el pseudocodigo:\n",
        "\n",
        "\n",
        "**Data:** $f$, $x_0$, $x_1$, $\\varepsilon$, $N_{max}$\n",
        "\n",
        "**Result:** $x$\n",
        "\n",
        "> $n = 0$\n",
        "\n",
        "> $x_{old} = x_0$\n",
        "\n",
        "> $x_{new} = x_1$\n",
        "\n",
        "**while** $|x_{new} − x_{old}| > \\varepsilon$ $∧$ $n ≤ N_{max}$ **do**\n",
        "\n",
        ">  $n = n + 1$;\n",
        "\n",
        ">  $x_{aux} = x_{new} - f(x_{new})\\frac{ x_{new} - x_{old}}{f(x_{new}) − f(x_{old})}$\n",
        "\n",
        ">  $x_{old} = x_{new}$\n",
        "\n",
        ">  $x_{new} = x_{aux}$\n",
        "\n",
        "**end**\n",
        "\n",
        "**return** $x_{new}$\n",
        "\n",
        "\n"
      ],
      "metadata": {
        "id": "Pvp8AxZrKxUY"
      }
    },
    {
      "cell_type": "code",
      "execution_count": null,
      "metadata": {
        "id": "jlJmRI6eBqNp"
      },
      "outputs": [],
      "source": [
        "#escribir programa"
      ]
    },
    {
      "cell_type": "markdown",
      "source": [
        "**Ejemplo**: Utilizar el método de la secante para encontrar una raíz de la ecuación $x^3+2x^2+10x-20=0$."
      ],
      "metadata": {
        "id": "fosYFtKOwoSl"
      }
    },
    {
      "cell_type": "code",
      "source": [
        "#ejemplo"
      ],
      "metadata": {
        "id": "aW2c7RKgwybZ"
      },
      "execution_count": null,
      "outputs": []
    }
  ],
  "metadata": {
    "colab": {
      "provenance": [],
      "collapsed_sections": [],
      "authorship_tag": "ABX9TyPAhCcIDD5/D4zQLLmykQw6",
      "include_colab_link": true
    },
    "kernelspec": {
      "display_name": "Python 3",
      "name": "python3"
    },
    "language_info": {
      "name": "python"
    }
  },
  "nbformat": 4,
  "nbformat_minor": 0
}
