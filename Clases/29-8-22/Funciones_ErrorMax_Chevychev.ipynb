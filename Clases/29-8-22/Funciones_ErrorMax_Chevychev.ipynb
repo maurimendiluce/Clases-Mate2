{
  "nbformat": 4,
  "nbformat_minor": 0,
  "metadata": {
    "colab": {
      "provenance": [],
      "include_colab_link": true
    },
    "kernelspec": {
      "name": "python3",
      "display_name": "Python 3"
    },
    "language_info": {
      "name": "python"
    }
  },
  "cells": [
    {
      "cell_type": "markdown",
      "metadata": {
        "id": "view-in-github",
        "colab_type": "text"
      },
      "source": [
        "<a href=\"https://colab.research.google.com/github/maurimendiluce/Clases-Mate2/blob/main/Funciones_ErrorMax_Chevychev.ipynb\" target=\"_parent\"><img src=\"https://colab.research.google.com/assets/colab-badge.svg\" alt=\"Open In Colab\"/></a>"
      ]
    },
    {
      "cell_type": "markdown",
      "metadata": {
        "id": "R7FnoWhlQZRi"
      },
      "source": [
        "## Funciones en `Python` (Básico)\n",
        "\n",
        "Tenemos básicamente de dos tipos\n",
        "\n",
        "- Las internas dellenguaje  como `polival`, `polyfit`, `math.cos`, que ya vienen predeterminadas\n",
        "\n",
        "- Las que definimos nosotros segun nuestra necesidad\n"
      ]
    },
    {
      "cell_type": "code",
      "source": [
        "#Función con un parámetro que devuelve un valor\n",
        "\n",
        "def el_triple_de(x):\n",
        "   y=3*x\n",
        "   return(y)"
      ],
      "metadata": {
        "id": "-kQbs6_A20y6"
      },
      "execution_count": null,
      "outputs": []
    },
    {
      "cell_type": "code",
      "source": [
        "a=5\n",
        "\n",
        "print(f\"El triple de {a} es: \", el_triple_de(a))\n",
        "\n"
      ],
      "metadata": {
        "colab": {
          "base_uri": "https://localhost:8080/"
        },
        "id": "RElCL9nM3DGO",
        "outputId": "96bb8012-3a5f-48ca-9366-9514b49023ab"
      },
      "execution_count": null,
      "outputs": [
        {
          "output_type": "stream",
          "name": "stdout",
          "text": [
            "El triple de 5 es:  15\n"
          ]
        }
      ]
    },
    {
      "cell_type": "code",
      "source": [
        "#Función con tres parámetros que devuelve un valor\n",
        "\n",
        "def prom(x,y,z):\n",
        "   w=(x+y+z)/3\n",
        "   return(w)\n",
        "\n"
      ],
      "metadata": {
        "id": "XfvX1SI-5tay"
      },
      "execution_count": null,
      "outputs": []
    },
    {
      "cell_type": "code",
      "source": [
        "a=5\n",
        "b=8\n",
        "c=6\n",
        "\n",
        "print(f\"El promedio de las tres notas {a},{b},{c} es: \", prom(a,b,c))"
      ],
      "metadata": {
        "colab": {
          "base_uri": "https://localhost:8080/"
        },
        "id": "7DXKj2ky6QEQ",
        "outputId": "aef4d3e7-eeff-4c97-d227-48d6cbcb5d0a"
      },
      "execution_count": null,
      "outputs": [
        {
          "output_type": "stream",
          "name": "stdout",
          "text": [
            "El promedio de las tres notas 5,8,6 es:  6.333333333333333\n"
          ]
        }
      ]
    },
    {
      "cell_type": "code",
      "source": [
        "# Las variables definidas dentro de la definición de mi función son solo internas a mi función.\n",
        "#Ejemplo: Una función que suma naturales de 1 a n\n",
        "\n",
        "def suma_hasta(n):\n",
        "    suma = 0\n",
        "    for i in range(1, n+1):\n",
        "        suma = suma + i\n",
        "    return(suma)\n",
        "\n",
        "print(suma_hasta(50)) #acá, dentro del print es donde llamo a la fucion que defnimos. Imprime en pantalla lo que devuelva la función. \n",
        "                      #Es decir: donde dice suma_hasta(50) reemplazará lo que le dice el return(suma) y esto es lo que tenga dentro\n",
        "                      #la variable suma.\n",
        "\n",
        "print(suma) #eso tira un error porque la variable suma es solo interna a la función\n"
      ],
      "metadata": {
        "colab": {
          "base_uri": "https://localhost:8080/",
          "height": 217
        },
        "id": "OppfB9BuxOWL",
        "outputId": "f8cb8a5c-0101-4fed-fb3e-305da7dbd383"
      },
      "execution_count": null,
      "outputs": [
        {
          "output_type": "stream",
          "name": "stdout",
          "text": [
            "1275\n"
          ]
        },
        {
          "output_type": "error",
          "ename": "NameError",
          "evalue": "ignored",
          "traceback": [
            "\u001b[0;31m---------------------------------------------------------------------------\u001b[0m",
            "\u001b[0;31mNameError\u001b[0m                                 Traceback (most recent call last)",
            "\u001b[0;32m<ipython-input-18-7edb74572d05>\u001b[0m in \u001b[0;36m<module>\u001b[0;34m\u001b[0m\n\u001b[1;32m     12\u001b[0m                       \u001b[0;31m#la variable suma.\u001b[0m\u001b[0;34m\u001b[0m\u001b[0;34m\u001b[0m\u001b[0;34m\u001b[0m\u001b[0m\n\u001b[1;32m     13\u001b[0m \u001b[0;34m\u001b[0m\u001b[0m\n\u001b[0;32m---> 14\u001b[0;31m \u001b[0mprint\u001b[0m\u001b[0;34m(\u001b[0m\u001b[0msuma\u001b[0m\u001b[0;34m)\u001b[0m \u001b[0;31m#eso tira un error porque la variable suma es solo interna a la función\u001b[0m\u001b[0;34m\u001b[0m\u001b[0;34m\u001b[0m\u001b[0m\n\u001b[0m",
            "\u001b[0;31mNameError\u001b[0m: name 'suma' is not defined"
          ]
        }
      ]
    },
    {
      "cell_type": "code",
      "source": [
        "#Función que no devuelve nada. Por ahora no nos importan mucho. .\n",
        "\n",
        "def saludo(nombre):\n",
        "   print(\"Hola \" +nombre+ \", cómo estás?\")\n",
        "\n",
        "saludo(\"Mauri\")"
      ],
      "metadata": {
        "colab": {
          "base_uri": "https://localhost:8080/"
        },
        "id": "TjLKpyV1_QMs",
        "outputId": "82362fe1-1958-4619-8d30-62ae3b8ae48e"
      },
      "execution_count": null,
      "outputs": [
        {
          "output_type": "stream",
          "name": "stdout",
          "text": [
            "Hola Mauri, cómo estás?\n"
          ]
        }
      ]
    },
    {
      "cell_type": "code",
      "source": [
        "#librerías que tienen funciones predeterminadas que utilizamos en proximos códigos\n",
        "import math\n",
        "import numpy as np\n",
        "import matplotlib.pyplot as plt"
      ],
      "metadata": {
        "id": "eefQcnSPVeNZ"
      },
      "execution_count": null,
      "outputs": []
    },
    {
      "cell_type": "code",
      "source": [
        "#Un ejemplo común donde se utiliza funciones que no devuelvan nada es para imprimir en pantalla un gráfico\n",
        "\n",
        "def f1(x):\n",
        "   y=2*x+5\n",
        "   return(y)\n",
        "\n",
        "def f2(x):\n",
        "   y=x**2+4*x+3\n",
        "   return(y)\n",
        "\n",
        "\n",
        "def grafico(f,xmin,xmax):\n",
        "    x = np.linspace(xmin, xmax, 100)\n",
        "    plt.plot(x, f(x))\n",
        "\n",
        "\n",
        "grafico(f1, -8, 6)\n",
        "grafico(f2, -5, 5)\n"
      ],
      "metadata": {
        "colab": {
          "base_uri": "https://localhost:8080/",
          "height": 266
        },
        "id": "1GVzym47Cwsz",
        "outputId": "9e887998-926f-4411-f7a9-75329a6e92fb"
      },
      "execution_count": null,
      "outputs": [
        {
          "output_type": "display_data",
          "data": {
            "text/plain": [
              "<Figure size 432x288 with 1 Axes>"
            ],
            "image/png": "[encoded data removed]"
          },
          "metadata": {
            "needs_background": "light"
          }
        }
      ]
    },
    {
      "cell_type": "code",
      "execution_count": null,
      "metadata": {
        "id": "uUOQ-GK7t5c8",
        "outputId": "9e181750-7e88-4355-ef17-9e134a3a1598",
        "colab": {
          "base_uri": "https://localhost:8080/"
        }
      },
      "outputs": [
        {
          "output_type": "stream",
          "name": "stdout",
          "text": [
            "cosenoT(0.5):  0.8776041666666666\n",
            "math.cos(0.5):  0.8775825618903728\n",
            "math.cos(0.5):  2.160477629387092e-05\n"
          ]
        }
      ],
      "source": [
        "# Función coseno_Tay(x) que aproxima cos(x) con Polinomio de Taylor desarrollado en x=o\n",
        "\n",
        "def coseno_Tay(x):\n",
        "    y = 1 #el primer término del Polinomo de Taylor del cos(x) es 1\n",
        "    for i in range(2,5,2):\n",
        "        y = y + (-1)**(i/2) * (x**i)/math.factorial(i)\n",
        "    return(y)\n",
        "\n",
        "err=abs(math.cos(0.5)-coseno_Tay(0.5))\n",
        "\n",
        "print(\"cosenoT(0.5): \", coseno_Tay(0.5))\n",
        "print(\"math.cos(0.5): \", math.cos(0.5))\n",
        "print(\"math.cos(0.5): \", err)"
      ]
    },
    {
      "cell_type": "code",
      "source": [
        "# Función coseno_Tay(x) que devuelva una aproximación por Taylor de cos(x) con un error teórico menor que  10^−8\n",
        "\n",
        "def coseno_Tay(x):\n",
        "    y = 1   #el primer término del Polinomo de Taylor del cos(x) es 1\n",
        "    i = 0\n",
        "    while(abs(x**(i+1)/math.factorial(i+1))  > 10**(-8)):\n",
        "        i = i + 2\n",
        "        y = y + (-1)**(i/2)*x**i/math.factorial(i)\n",
        "        #print(\"Termino: \", (-1)**(i/2)*x**i/math.factorial(i)) #si quiero ir viendo en cada iteración cuanto vale \n",
        "    print(\"El grado del polinomio es : \", i)\n",
        "    return(y)\n",
        "print(\"cosenoT(1): \", coseno_Tay(1))\n",
        "print(\"math.cos(1): \", math.cos(1))"
      ],
      "metadata": {
        "colab": {
          "base_uri": "https://localhost:8080/"
        },
        "id": "3cBAcTPSLLZg",
        "outputId": "ab3b22cc-5300-4cc9-f1cd-171ac775420a"
      },
      "execution_count": null,
      "outputs": [
        {
          "output_type": "stream",
          "name": "stdout",
          "text": [
            "El grado del polinomio es :  12\n",
            "cosenoT(1):  0.5403023058795627\n",
            "math.cos(1):  0.5403023058681398\n"
          ]
        }
      ]
    },
    {
      "cell_type": "code",
      "execution_count": null,
      "metadata": {
        "colab": {
          "base_uri": "https://localhost:8080/"
        },
        "id": "XJbOwjBAKP_f",
        "outputId": "32d99209-606e-4b37-c906-6c4d80d39b23"
      },
      "outputs": [
        {
          "output_type": "stream",
          "name": "stdout",
          "text": [
            "El grado del polinomio es:  20\n",
            "cosenoT(1):  0.5403023058681397\n",
            "math.cos(1):  0.5403023058681398\n"
          ]
        }
      ],
      "source": [
        "# Función coseno_Tay(x) que devuelva una aproximación por Taylor de cos(x) \n",
        "# con un error  iterando hasta que una nueva iteración no produzca \n",
        "# ningún cambio en el valor que queremos calcular o un cambio menor que un cierto valor pequeño.\n",
        "\n",
        "def coseno_Tay(x):\n",
        "    y = 1         #el primer término del Polinomo de Taylor del cos(x) es 1\n",
        "    y_Temp = 0    # y_Temp va a guardar el valor obtenido en el paso anterior.\n",
        "    i = 0\n",
        "    while(y_Temp != y):\n",
        "        i = i + 2\n",
        "        y_Temp = y                                      # Guardamos el valor obtenido en el paso anterior\n",
        "        y = y + (-1)**(i/2)*x**i/math.factorial(i)      # Calculamos el nuevo valor\n",
        "    print(\"El grado del polinomio es: \", i)\n",
        "    return(y)\n",
        "\n",
        "print(\"cosenoT(1): \", coseno_Tay(1))\n",
        "print(\"math.cos(1): \", math.cos(1))"
      ]
    },
    {
      "cell_type": "markdown",
      "metadata": {
        "id": "p6fDV3qnKP_h"
      },
      "source": [
        "## Ejercicio\n",
        "- Modificar las funciones anteriores para calcular $e^x$ en forma aproximada cerca del 0.\n"
      ]
    },
    {
      "cell_type": "code",
      "source": [
        "#Aquí podes pegar las lineas de cogigos anteriores y modificarlas"
      ],
      "metadata": {
        "id": "e6XC_OIs1p5B"
      },
      "execution_count": null,
      "outputs": []
    },
    {
      "cell_type": "markdown",
      "metadata": {
        "id": "YiJQ1cuBSw20"
      },
      "source": [
        "## Máximo de una función\n",
        "Ejemplo: Calcular numéricamente el máximo de $f(x)=sen(x)-x^2$ en el intervalo $[-3, 3]$."
      ]
    },
    {
      "cell_type": "code",
      "execution_count": null,
      "metadata": {
        "id": "oaDqhJjsSw20",
        "outputId": "8e13fbab-4b8b-465a-9f8e-c0ec935c8168",
        "colab": {
          "base_uri": "https://localhost:8080/",
          "height": 352
        }
      },
      "outputs": [
        {
          "output_type": "stream",
          "name": "stdout",
          "text": [
            "0.2313791755414829\n",
            "58\n",
            "Coordenada x:  0.48\n",
            "Coordenada y:  0.2313791755414829\n"
          ]
        },
        {
          "output_type": "execute_result",
          "data": {
            "text/plain": [
              "0.2313791755414829"
            ]
          },
          "metadata": {},
          "execution_count": 18
        },
        {
          "output_type": "display_data",
          "data": {
            "text/plain": [
              "<Figure size 432x288 with 1 Axes>"
            ],
            "image/png": "[encoded data removed]"
          },
          "metadata": {
            "needs_background": "light"
          }
        }
      ],
      "source": [
        "x = np.linspace(-3, 3, 101)\n",
        "y = np.sin(x) - x**2\n",
        "plt.plot(x, y)\n",
        "\n",
        "# Tomamos el máximo valor del array y\n",
        "print(max(y))\n",
        "\n",
        "# Si queremos saber en qué lugar del vector y alcanza el máximo (recordá que los vectores son de la forma: [ y[0] y[1] y[2] ... y[j] ... y[n]])\n",
        "# esta función te dirá el j para el cual la función f(x) que está guardada en el vector y alcanza un valor máximo.\n",
        "\n",
        "print(np.argmax(y))\n",
        "\n",
        "# Para obtener un elemento de un array:\n",
        "print(\"Coordenada x: \", x[58])\n",
        "print(\"Coordenada y: \", y[58])\n",
        "\n",
        "# Verificamos\n",
        "np.sin(0.48)-(0.48)**2\n"
      ]
    },
    {
      "cell_type": "markdown",
      "metadata": {
        "id": "CN17f6v5Sw23"
      },
      "source": [
        "### Máximo error de interpolación\n",
        "Ejemplo: estimar el error que se comete al interpolar $\\frac{1}{1+25x^2}$ en el intervalo $[-1, 1]$ en 5 puntos equiespaciados."
      ]
    },
    {
      "cell_type": "code",
      "execution_count": null,
      "metadata": {
        "id": "bspvgo9uSw23",
        "outputId": "7f9f0a54-eef4-4483-a0c0-7adb828d98f4",
        "colab": {
          "base_uri": "https://localhost:8080/"
        }
      },
      "outputs": [
        {
          "output_type": "stream",
          "name": "stdout",
          "text": [
            "0.13793103448275862\n"
          ]
        }
      ],
      "source": [
        "# Definimos primero la función pedida\n",
        "def f(x):\n",
        "    return(1/(1+25*x**2))\n",
        "\n",
        "print(f(0.5))"
      ]
    },
    {
      "cell_type": "code",
      "execution_count": null,
      "metadata": {
        "id": "LsXF9pRHSw23",
        "outputId": "ed4b8d0b-b5dc-41c6-da12-3ee4276485ed",
        "colab": {
          "base_uri": "https://localhost:8080/",
          "height": 282
        }
      },
      "outputs": [
        {
          "output_type": "execute_result",
          "data": {
            "text/plain": [
              "[<matplotlib.lines.Line2D at 0x7f0791b03850>]"
            ]
          },
          "metadata": {},
          "execution_count": 6
        },
        {
          "output_type": "display_data",
          "data": {
            "text/plain": [
              "<Figure size 432x288 with 1 Axes>"
            ],
            "image/png": "[encoded data removed]"
          },
          "metadata": {
            "needs_background": "light"
          }
        }
      ],
      "source": [
        "# Graficamos la función\n",
        "x = np.linspace(-1, 1, 1001)\n",
        "y = f(x)\n",
        "plt.plot(x, y)"
      ]
    },
    {
      "cell_type": "code",
      "execution_count": null,
      "metadata": {
        "id": "gkbmEve9Sw24",
        "outputId": "7cebae6d-a3ad-45bd-f9f8-4ef30c24fc28",
        "colab": {
          "base_uri": "https://localhost:8080/",
          "height": 282
        }
      },
      "outputs": [
        {
          "output_type": "execute_result",
          "data": {
            "text/plain": [
              "[<matplotlib.lines.Line2D at 0x7f07915f72d0>]"
            ]
          },
          "metadata": {},
          "execution_count": 7
        },
        {
          "output_type": "display_data",
          "data": {
            "text/plain": [
              "<Figure size 432x288 with 1 Axes>"
            ],
            "image/png": "[encoded data removed]"
          },
          "metadata": {
            "needs_background": "light"
          }
        }
      ],
      "source": [
        "# Interpolamos y graficamos\n",
        "xi = np.linspace(-1, 1, 5)\n",
        "yi = f(xi)\n",
        "c = np.polyfit(xi, yi, 4)\n",
        "p = np.poly1d(c)\n",
        "plt.plot(x, f(x))  # La función original\n",
        "plt.plot(x, p(x))  # El polinomio interpolador"
      ]
    },
    {
      "cell_type": "code",
      "execution_count": null,
      "metadata": {
        "id": "5GrqIZ-cSw24",
        "outputId": "25e8a2c0-994e-4a67-cecb-52db08b49f78",
        "colab": {
          "base_uri": "https://localhost:8080/",
          "height": 282
        }
      },
      "outputs": [
        {
          "output_type": "execute_result",
          "data": {
            "text/plain": [
              "[<matplotlib.lines.Line2D at 0x7f07915a3250>]"
            ]
          },
          "metadata": {},
          "execution_count": 8
        },
        {
          "output_type": "display_data",
          "data": {
            "text/plain": [
              "<Figure size 432x288 with 1 Axes>"
            ],
            "image/png": "[encoded data removed]"
          },
          "metadata": {
            "needs_background": "light"
          }
        }
      ],
      "source": [
        "# Graficamos la función de error: |f(x) - p(x)|\n",
        "err = abs(f(x)-p(x))\n",
        "plt.plot(x, err)"
      ]
    },
    {
      "cell_type": "markdown",
      "metadata": {
        "id": "CX3oK2olt5c-"
      },
      "source": [
        "## Funciones recursivas\n",
        "- Una función puede llamar a otra función o a otras funciones como vimos en el ejemplo del gráfico.\n",
        "- Pero también una función puede llamarse a si misma: Recursión"
      ]
    },
    {
      "cell_type": "code",
      "source": [
        "#Una funcion para calcular n!. NO RECURSIVA\n",
        "\n",
        "\n",
        "def fact(n):\n",
        "    if(n == 0):\n",
        "        return(1)\n",
        "    else:\n",
        "      factorial=1\n",
        "      while(n>0):\n",
        "        factorial=factorial*n\n",
        "        n=n-1\n",
        "      return(factorial)\n",
        "\n",
        "m=8\n",
        "\n",
        "print(fact(m))\n",
        "\n",
        "#print(f\"El factorial de {n} es: \", fact(n))\n"
      ],
      "metadata": {
        "colab": {
          "base_uri": "https://localhost:8080/"
        },
        "id": "LPz86wE32OTv",
        "outputId": "cced1304-8a23-4c4f-c6ca-84b28a6c1b0e"
      },
      "execution_count": null,
      "outputs": [
        {
          "output_type": "stream",
          "name": "stdout",
          "text": [
            "40320\n"
          ]
        }
      ]
    },
    {
      "cell_type": "code",
      "execution_count": null,
      "metadata": {
        "id": "CYjqzyatt5c_",
        "outputId": "b648f6e3-57ff-413d-a3ef-98fca2599456",
        "colab": {
          "base_uri": "https://localhost:8080/"
        }
      },
      "outputs": [
        {
          "output_type": "stream",
          "name": "stdout",
          "text": [
            "40320\n"
          ]
        }
      ],
      "source": [
        "# Otra forma de calcular n! Recursivamente\n",
        "# Usando que n! = n * (n-1)! (si n > 0)\n",
        "def factR(n):\n",
        "    if(n == 0):\n",
        "        return(1)\n",
        "    else:\n",
        "        return(n*factR(n-1))\n",
        "\n",
        "l=8\n",
        "\n",
        "print(factR(l))\n"
      ]
    },
    {
      "cell_type": "markdown",
      "metadata": {
        "id": "CM0f9zILt5dA"
      },
      "source": [
        "## Polinomios de Chevichev recusivamente. \n",
        "Recordemos la relación de recurrencvia que existe entre ellos:\n",
        "\n",
        "\n",
        "$$\n",
        "T_0(x) = 1 \\\\\n",
        "T_1(x) = x \\\\\n",
        "T_{n}(x) = 2xT_{n-1}(x) - T_{n-2}(x)\n",
        "$$"
      ]
    },
    {
      "cell_type": "code",
      "source": [
        "m=5\n",
        "\n",
        "t0 = np.poly1d([1])\n",
        "t1 = np.poly1d([1, 0])\n",
        "\n",
        "def cheby(n):\n",
        "    if(n==0):\n",
        "        return(np.poly1d([1]))\n",
        "    if(n==1):\n",
        "        return(np.poly1d([1,0]))\n",
        "    if(n>1):\n",
        "        px = np.poly1d([1,0])\n",
        "        return(2*px*cheby(n-1)-cheby(n-2))\n",
        "\n",
        "print(cheby(m))\n"
      ],
      "metadata": {
        "colab": {
          "base_uri": "https://localhost:8080/"
        },
        "id": "GjZE1kzFA2Gs",
        "outputId": "43f012b7-9420-4ab3-a3b7-c649ac9fef2a"
      },
      "execution_count": null,
      "outputs": [
        {
          "output_type": "stream",
          "name": "stdout",
          "text": [
            "    5      3\n",
            "16 x - 20 x + 5 x\n"
          ]
        }
      ]
    },
    {
      "cell_type": "markdown",
      "metadata": {
        "id": "dkKspGf5Sw24"
      },
      "source": [
        "## Ceros de Chebyshev\n"
      ]
    },
    {
      "cell_type": "code",
      "execution_count": null,
      "metadata": {
        "id": "R4XzuS8iSw25",
        "outputId": "04318a15-5905-4e3f-c056-fe4b32d44664",
        "colab": {
          "base_uri": "https://localhost:8080/",
          "height": 317
        }
      },
      "outputs": [
        {
          "output_type": "stream",
          "name": "stderr",
          "text": [
            "/usr/local/lib/python3.7/dist-packages/IPython/core/interactiveshell.py:3326: RankWarning: Polyfit may be poorly conditioned\n",
            "  exec(code_obj, self.user_global_ns, self.user_ns)\n"
          ]
        },
        {
          "output_type": "execute_result",
          "data": {
            "text/plain": [
              "[<matplotlib.lines.Line2D at 0x7f07912f4190>]"
            ]
          },
          "metadata": {},
          "execution_count": 30
        },
        {
          "output_type": "display_data",
          "data": {
            "text/plain": [
              "<Figure size 432x288 with 1 Axes>"
            ],
            "image/png": "[encoded data removed]"
          },
          "metadata": {
            "needs_background": "light"
          }
        }
      ],
      "source": [
        "\n",
        "xi2 = cheby(m).r # Buscamos las raíces del polinomio\n",
        "yi2 = f(xi2)\n",
        "c2 = np.polyfit(xi2, yi2, m)\n",
        "p2 = np.poly1d(c2)\n",
        "plt.plot(x, f(x))  # La función original\n",
        "plt.plot(x, p2(x))  # El polinomio interpolador"
      ]
    },
    {
      "cell_type": "code",
      "source": [
        "# Graficamos la función de error: |f(x) - p(x)|\n",
        "err2 = abs(f(x)-p2(x))\n",
        "plt.plot(x, err2)\n",
        "print(\"Error máximo: \", max(err2))\n"
      ],
      "metadata": {
        "colab": {
          "base_uri": "https://localhost:8080/",
          "height": 282
        },
        "id": "wCiXXQ3oZUvK",
        "outputId": "92b93bc5-affc-4a16-aa55-5a69e4e3c5f5"
      },
      "execution_count": null,
      "outputs": [
        {
          "output_type": "stream",
          "name": "stdout",
          "text": [
            "Error máximo:  0.4020167419379081\n"
          ]
        },
        {
          "output_type": "display_data",
          "data": {
            "text/plain": [
              "<Figure size 432x288 with 1 Axes>"
            ],
            "image/png": "[encoded data removed]"
          },
          "metadata": {
            "needs_background": "light"
          }
        }
      ]
    },
    {
      "cell_type": "markdown",
      "metadata": {
        "id": "ZlE44iLRebQp"
      },
      "source": [
        "## Forma de Lagrange del polinomio interpolador\n",
        "\n",
        "\n",
        "- ### Recordemos la definición de los polinomios interpoladores de Lagrange:\n",
        "\n",
        "Dados los puntos $x_0,x,x_1,...x_n$ los polinomios interpoladores son:\n",
        "\n",
        "$$\n",
        "\\ell _{j}(x):=\\prod _{\\begin{smallmatrix}0\\leq m\\leq k\\\\m\\neq j\\end{smallmatrix}}{\\frac {x-x_{m}}{x_{j}-x_{m}}}={\\frac {(x-x_{0})}{(x_{j}-x_{0})}}\\cdots {\\frac {(x-x_{j-1})}{(x_{j}-x_{j-1})}}{\\frac {(x-x_{j+1})}{(x_{j}-x_{j+1})}}\\cdots {\\frac {(x-x_{k})}{(x_{j}-x_{k})}}\n",
        "$$\n",
        "\n",
        "- Y luego: $$\n",
        "P_n(x):=\\sum _{j=0} f(x_j).\\ell _{j}(x)\n",
        "$$\n",
        "\n",
        "\n"
      ]
    },
    {
      "cell_type": "code",
      "source": [],
      "metadata": {
        "id": "n8S0oLZI0c9b"
      },
      "execution_count": null,
      "outputs": []
    },
    {
      "cell_type": "markdown",
      "source": [
        "\n",
        "- Construimos los polinomios de Lagrange para 8 puntos equiespaciados en el $[-1, 1]$"
      ],
      "metadata": {
        "id": "Zb4PYQas0d0Z"
      }
    },
    {
      "cell_type": "code",
      "source": [
        "j = 3\n",
        "n = 8\n",
        "xi = np.linspace(-1, 1, n)\n",
        "\n",
        "p = np.poly1d([1])\n",
        "for m in range(0, n):\n",
        "    if (m != j):\n",
        "        p = p * np.poly1d([xi[m]], True) / (xi[j]-xi[m])\n",
        "\n",
        "x = np.linspace(-1, 1, 101)\n",
        "plt.plot(x, p(x))"
      ],
      "metadata": {
        "colab": {
          "base_uri": "https://localhost:8080/",
          "height": 282
        },
        "id": "NhEgZ6JqqJMf",
        "outputId": "93d25101-804e-4055-f4e1-5c38fd827e9e"
      },
      "execution_count": null,
      "outputs": [
        {
          "output_type": "execute_result",
          "data": {
            "text/plain": [
              "[<matplotlib.lines.Line2D at 0x7fa1f0ec4a10>]"
            ]
          },
          "metadata": {},
          "execution_count": 47
        },
        {
          "output_type": "display_data",
          "data": {
            "text/plain": [
              "<Figure size 432x288 with 1 Axes>"
            ],
            "image/png": "[encoded data removed]"
          },
          "metadata": {
            "needs_background": "light"
          }
        }
      ]
    },
    {
      "cell_type": "markdown",
      "source": [
        "# Interpolación Usando el comando `polyfit`"
      ],
      "metadata": {
        "id": "YeOH5LkZxWVk"
      }
    },
    {
      "cell_type": "code",
      "source": [
        "j = 3\n",
        "n = 8\n",
        "xi = np.linspace(-1, 1, n)\n",
        "yi = np.zeros(8)\n",
        "yi[j] = 1\n",
        "c = np.polyfit(xi, yi, 7)\n",
        "p = np.poly1d(c)\n",
        "x = np.linspace(-1, 1, 101)\n",
        "y = p(x)\n",
        "plt.plot(xi, yi, '.')\n",
        "plt.plot(x, y)"
      ],
      "metadata": {
        "colab": {
          "base_uri": "https://localhost:8080/",
          "height": 282
        },
        "id": "IMT56_FnulJH",
        "outputId": "5a3a733f-35e0-4669-cb59-e8254aa40df9"
      },
      "execution_count": null,
      "outputs": [
        {
          "output_type": "execute_result",
          "data": {
            "text/plain": [
              "[<matplotlib.lines.Line2D at 0x7fa1f0b88550>]"
            ]
          },
          "metadata": {},
          "execution_count": 53
        },
        {
          "output_type": "display_data",
          "data": {
            "text/plain": [
              "<Figure size 432x288 with 1 Axes>"
            ],
            "image/png": "[encoded data removed]"
          },
          "metadata": {
            "needs_background": "light"
          }
        }
      ]
    },
    {
      "cell_type": "markdown",
      "metadata": {
        "id": "2q_0kf5_Sw28"
      },
      "source": [
        "### Ejercicio\n",
        " Escribir una función que reciba xmin, xmax, n, j y grafique el j-esimo polinomio de Lagrange en n puntos equiespaciados en el intervalo [xmin, xmax]\n"
      ]
    }
  ]
}
