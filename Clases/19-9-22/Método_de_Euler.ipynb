{
  "nbformat": 4,
  "nbformat_minor": 0,
  "metadata": {
    "colab": {
      "provenance": [],
      "collapsed_sections": [],
      "authorship_tag": "ABX9TyP6HFJihhrgLER1UoVbJkE6",
      "include_colab_link": true
    },
    "kernelspec": {
      "name": "python3",
      "display_name": "Python 3"
    },
    "language_info": {
      "name": "python"
    }
  },
  "cells": [
    {
      "cell_type": "markdown",
      "metadata": {
        "id": "view-in-github",
        "colab_type": "text"
      },
      "source": [
        "<a href=\"https://colab.research.google.com/github/maurimendiluce/Clases-Mate2/blob/main/M%C3%A9todo_de_Euler.ipynb\" target=\"_parent\"><img src=\"https://colab.research.google.com/assets/colab-badge.svg\" alt=\"Open In Colab\"/></a>"
      ]
    },
    {
      "cell_type": "markdown",
      "source": [
        "## **Método de Euler**\n",
        "Para resolver la ecuación diferencial\n",
        "$$\n",
        "x'(t)=f(t,x(t)),\\qquad x(t_{0})=x_{0}\n",
        "$$\n",
        "usamos el método de Euler:\n",
        "$$\n",
        "x_{n+1}=x_{n}+hf(t_{n},x_{n}),\n",
        "$$\n",
        "donde $h$ es el paso y $t_n = t_0 + nh$."
      ],
      "metadata": {
        "id": "pbYbPkac7Wsx"
      }
    },
    {
      "cell_type": "markdown",
      "source": [
        "**Ejemplo:** Resolver numéricamente las siguientes ecuaciones $t \\in [0, 5]$.\n",
        "\n",
        "\n",
        "1.   $x'(t)=x(t), \\quad x(0)=1$\n",
        "2.   $x'(t)=\\cos(t), \\quad x(0)=0$, ¿que sucede si cambiamos por $\\cos(x(t))$? \n",
        "3.   $\\frac{{\\left.{d}{x}\\right.}}{{\\left.{d}{t}\\right.}}=\\frac{t+2}{t+1}x, \\quad x(0)=1$.\n",
        "\n"
      ],
      "metadata": {
        "id": "yNEImy317lpX"
      }
    },
    {
      "cell_type": "code",
      "execution_count": null,
      "metadata": {
        "id": "n5FRV0Iv60l8"
      },
      "outputs": [],
      "source": [
        "import numpy as np\n",
        "import matplotlib.pyplot as plt"
      ]
    },
    {
      "cell_type": "code",
      "source": [
        "def euler(f,t0,T,x0,n):\n",
        "  t = np.linspace(t0, T, n+1)\n",
        "  x = np.zeros(n+1)\n",
        "  x[0]=x0\n",
        "  h = (T-t0)/n\n",
        "  for i in range(1, n+1):\n",
        "    x[i] = x[i-1] + h * f(t[i-1], x[i-1])\n",
        "  return((t,x))"
      ],
      "metadata": {
        "id": "rvnkqz4f8ITg"
      },
      "execution_count": null,
      "outputs": []
    },
    {
      "cell_type": "code",
      "source": [
        "def f1(t,x):\n",
        "  y=x\n",
        "  return y\n",
        "\n",
        "def f2(t,x):\n",
        "  y=np.cos(t)\n",
        "  return y\n",
        "\n",
        "def f3(t,x):\n",
        "  y = x*(t+2)/(t+1)\n",
        "  return y\n"
      ],
      "metadata": {
        "id": "aqoccYi2_uMB"
      },
      "execution_count": null,
      "outputs": []
    },
    {
      "cell_type": "code",
      "source": [
        "x0=1\n",
        "(t,x) = euler(f1,0,5,x0,100)\n",
        "plt.plot(t,x,label=\"Euler\")\n",
        "plt.plot(t,np.exp(t),label=\"Sol exacta\") #solucion exacta para f1\n",
        "#plt.plot(t,np.sin(t),label=\"Sol exacta\") #solucion exacta para f2\n",
        "#plt.plot(t,np.exp(t)*(t+1),label=\"Sol exacta\") #solucion exacta para f1\n",
        "plt.legend()"
      ],
      "metadata": {
        "id": "Drosufx2AIKT"
      },
      "execution_count": null,
      "outputs": []
    },
    {
      "cell_type": "markdown",
      "source": [
        "**Ejemplo:** Resolver la ecuación en el intervalo $[0,1]$ para $x(0) = 0, \\dots, 10$ y graficar las soluciones en el mismo gráfico."
      ],
      "metadata": {
        "id": "VjXgALZGEjoE"
      }
    },
    {
      "cell_type": "code",
      "source": [
        "for i in range(0, 11):\n",
        "    (t, x) = euler(f1, 0, 5, i, 200)\n",
        "    plt.plot(t, x)"
      ],
      "metadata": {
        "id": "o-1j_WtXE1IJ"
      },
      "execution_count": null,
      "outputs": []
    },
    {
      "cell_type": "markdown",
      "source": [
        "**Ejemplo:** Resolver la ecuación para $x(0) = 0$ y pasos 5, 10, 100, 1000. Graficar las soluciones en el mismo gráfico."
      ],
      "metadata": {
        "id": "_YRfwVpnFEr3"
      }
    },
    {
      "cell_type": "code",
      "source": [
        "for n in [5, 10, 100, 1000, 10000]:\n",
        "  (t, x) = euler(f1, 0, 5, 1, n)\n",
        "  plt.plot(t, x)"
      ],
      "metadata": {
        "id": "NOLpLf7iFEOZ"
      },
      "execution_count": null,
      "outputs": []
    },
    {
      "cell_type": "markdown",
      "source": [
        "Repetir el gráfico anterior en el intervalo $[0, 10]$."
      ],
      "metadata": {
        "id": "adj1PMNhFenK"
      }
    },
    {
      "cell_type": "code",
      "source": [
        "for n in [5, 10, 100, 1000]:\n",
        "    (t, x) = euler(f1, 0, 10, 0, n)\n",
        "    plt.plot(t, x)"
      ],
      "metadata": {
        "id": "A9pQ_jniFeZn"
      },
      "execution_count": null,
      "outputs": []
    },
    {
      "cell_type": "markdown",
      "source": [
        "#### **Listas**\n",
        "¿Cómo podemos guardar las distintas soluciones para distintas cantidades de puntos?\n",
        "\n",
        "Utilizamos listas. Las listas permiten guardar en una variable objetos de distintos tipos y tamaños."
      ],
      "metadata": {
        "id": "qPUIZPO5HNqk"
      }
    },
    {
      "cell_type": "code",
      "source": [
        "# Ejemplos\n",
        "l = [2, np.linspace(0,1,4),True]\n",
        "print(l)\n",
        "print(l[1])"
      ],
      "metadata": {
        "id": "zLiSiVuWHb5Q"
      },
      "execution_count": null,
      "outputs": []
    },
    {
      "cell_type": "code",
      "source": [
        "l.append(48)  # Agregamos un elemento al final de la lista\n",
        "print(l)"
      ],
      "metadata": {
        "id": "-TJ6F0y2Hec2"
      },
      "execution_count": null,
      "outputs": []
    },
    {
      "cell_type": "code",
      "source": [
        "# Volvemos al ejercicio\n",
        "l = list()    # Creamos una lista vacía\n",
        "for n in [5, 10, 100, 1000]:\n",
        "    (t, x) = euler(f2, 0, 10, 0, n)\n",
        "    l.append((t,x))"
      ],
      "metadata": {
        "id": "kZCYZSpeHiYO"
      },
      "execution_count": null,
      "outputs": []
    },
    {
      "cell_type": "code",
      "source": [
        "print(l[0])         # El primer elemento\n",
        "print(len(l))       # La longitus de l"
      ],
      "metadata": {
        "id": "Mu7t922pHn3A"
      },
      "execution_count": null,
      "outputs": []
    },
    {
      "cell_type": "code",
      "source": [
        "# Graficamos todas las funciones guardadas en l\n",
        "for i in range(len(l)):\n",
        "    plt.plot(l[i][0], l[i][1])"
      ],
      "metadata": {
        "id": "dbyhJ1yQHpxZ"
      },
      "execution_count": null,
      "outputs": []
    },
    {
      "cell_type": "code",
      "source": [
        "def euler2(f,t0,T,x0,n):\n",
        "  t = np.linspace(t0, T, n+1)\n",
        "  x = list()\n",
        "  x.append(x0)\n",
        "  h = (T-t0)/n\n",
        "  for i in range(1, n+1):\n",
        "    x_aux = x[i-1] + h * f(t[i-1], x[i-1])\n",
        "    x.append(x_aux)\n",
        "  return (t,x)"
      ],
      "metadata": {
        "id": "0O_1Bly_OmGR"
      },
      "execution_count": null,
      "outputs": []
    },
    {
      "cell_type": "markdown",
      "source": [
        "## **Ejemplo:**\n",
        "\n",
        "Consideremos el problema\n",
        "$$x'(t) = 2x(t) - 5 \\sin(t), \\quad x(0) = 1$$\n",
        "\n",
        "que tiene solución exacta $x(t) = 2 \\sin(t) + \\cos(t)$."
      ],
      "metadata": {
        "id": "I6RqFFEkIm86"
      }
    },
    {
      "cell_type": "markdown",
      "source": [
        "Graficar la solución exacta en el intervalo $[0,2]$ junto con las aproximaciones que se obtienen utilizando el método de Euler para $h = 0.1$, $h = 0.01$ y $h = 0.001$."
      ],
      "metadata": {
        "id": "ePAMELezJGhg"
      }
    },
    {
      "cell_type": "code",
      "source": [
        "def f(t,x):\n",
        "    y = 2*x-5*np.sin(t)\n",
        "    return y\n",
        "\n",
        "def sol(t):\n",
        "    y=2 * np.sin(t) + np.cos(t)\n",
        "    return y\n",
        "\n",
        "t0=0\n",
        "T=2\n",
        "h1=0.1\n",
        "n1=int((T-t0)/h1)\n",
        "h2=0.01\n",
        "n2=int((T-t0)/h2)\n",
        "h3=0.001\n",
        "n3=int((T-t0)/h3)\n",
        "\n",
        "(t1, x1) = euler(f, t0, T, 1, n1)\n",
        "(t2, x2) = euler(f, t0, T, 1, n2)\n",
        "(t3, x3) = euler(f, t0, T, 1, n3)\n",
        "plt.figure(figsize=(10,6))\n",
        "plt.plot(t1, x1,label=\"Euler con h=0.1\")\n",
        "plt.plot(t2, x2,label=\"Euler con h=0.01\")\n",
        "plt.plot(t3, x3,label=\"Euler con h=0.001\")\n",
        "\n",
        "t=np.linspace(t0,T,1001)\n",
        "plt.plot(t, sol(t),label=\"Sol. exacta\")\n",
        "plt.legend()"
      ],
      "metadata": {
        "id": "WbQFuhJzJr1o"
      },
      "execution_count": null,
      "outputs": []
    },
    {
      "cell_type": "markdown",
      "source": [
        "Graficar la diferencia entre las soluciones numéricas del  ítem anterior y la solución exacta."
      ],
      "metadata": {
        "id": "cJOB0kamcek3"
      }
    },
    {
      "cell_type": "code",
      "source": [
        "plt.figure(figsize=(10,6))\n",
        "plt.plot(t1, abs(x1-sol(t1)),label=\"h=0.1\")\n",
        "plt.plot(t2, abs(x2-sol(t2)),label=\"h=0.01\")\n",
        "plt.plot(t3, abs(x3-sol(t3)),label=\"h=0.001\")\n",
        "plt.legend()"
      ],
      "metadata": {
        "id": "tIJZRCodbhsG"
      },
      "execution_count": null,
      "outputs": []
    },
    {
      "cell_type": "markdown",
      "source": [
        "Graficar el error final, para $t = 2$, como función de $h $ (asegúrese de usar gráficos en escala logarítimica)."
      ],
      "metadata": {
        "id": "IN_3rvhkc6zI"
      }
    },
    {
      "cell_type": "code",
      "source": [
        "h = [0.1, 0.01, 0.001]\n",
        "nh = len(h)\n",
        "err = np.zeros(nh)\n",
        "for i in range(nh):\n",
        "    n = int((T-t0)/h[i])\n",
        "    (t, x) = euler(f, t0, T, 1, n)\n",
        "    err[i] = abs(x[n]-sol(T))\n",
        "    print(\"paso: \",h[i],\"| x(n): \",x[n],\"| x(T): \", sol(T))\n",
        "\n",
        "plt.plot(np.log(h), np.log(err))\n",
        "plt.plot(np.log(h), np.log(err), '.', ms=10)\n",
        "plt.xlabel('log(h)')\n",
        "plt.ylabel('log(error)')"
      ],
      "metadata": {
        "id": "Krg4L_L6KjJE"
      },
      "execution_count": null,
      "outputs": []
    },
    {
      "cell_type": "code",
      "source": [
        "print(\"Pendiente: \", (np.log(err[nh-1]) - np.log(err[nh-2])) / (np.log(h[nh-1]) - np.log(h[nh-2])))"
      ],
      "metadata": {
        "id": "S_laBZDuKnbL"
      },
      "execution_count": null,
      "outputs": []
    },
    {
      "cell_type": "markdown",
      "source": [
        "Para pensar: Hallar $h$ numéricamente, para que el error al estimar $x(10)$ con el método de Euler sea menor que $10^{−4}$"
      ],
      "metadata": {
        "id": "icK7_ynhmT34"
      }
    }
  ]
}
