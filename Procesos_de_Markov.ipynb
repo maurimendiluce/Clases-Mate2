{
  "nbformat": 4,
  "nbformat_minor": 0,
  "metadata": {
    "colab": {
      "provenance": [],
      "authorship_tag": "ABX9TyNx+HhqJ64tRG1OplRzvTuo",
      "include_colab_link": true
    },
    "kernelspec": {
      "name": "python3",
      "display_name": "Python 3"
    },
    "language_info": {
      "name": "python"
    }
  },
  "cells": [
    {
      "cell_type": "markdown",
      "metadata": {
        "id": "view-in-github",
        "colab_type": "text"
      },
      "source": [
        "<a href=\"https://colab.research.google.com/github/maurimendiluce/Clases-Mate2/blob/main/Procesos_de_Markov.ipynb\" target=\"_parent\"><img src=\"https://colab.research.google.com/assets/colab-badge.svg\" alt=\"Open In Colab\"/></a>"
      ]
    },
    {
      "cell_type": "markdown",
      "source": [
        "## **Matrices de Markov**\n",
        "\n"
      ],
      "metadata": {
        "id": "Clb80kzbozCp"
      }
    },
    {
      "cell_type": "markdown",
      "source": [
        "$A\\in\\mathbb{R}^{n\\times n}$. Cada lugar de la matriz se identifica con un $a_{ij}$ \n",
        "\n",
        "$$A =   \\left(\n",
        "   \\begin{array}{ccc}\n",
        "    a_{11} & ... & a_{1n} \\\\\n",
        "    \\vdots & \\ddots & \\vdots \\\\\n",
        "    a_{n1} & ... & a_{nn}\n",
        "   \\end{array}\n",
        "   \\right)$$\n",
        "\n",
        "Recordemos que $A$ es una matriz de Markov si $a_{ij}\\geq 0$ y la suma de cada columna es igual a 1. Es decir $a_{1j}+...+a_{nj}=1$, $∀j$"
      ],
      "metadata": {
        "id": "FZ1W5QtLMR2I"
      }
    },
    {
      "cell_type": "code",
      "execution_count": null,
      "metadata": {
        "id": "EfekCZ91nYyD"
      },
      "outputs": [],
      "source": [
        "import numpy as np\n",
        "import matplotlib.pyplot as plt\n"
      ]
    },
    {
      "cell_type": "markdown",
      "source": [
        "**Ejercicio** \n",
        "\n",
        "Determinar si las siguientes matrices son matrices de Markov:\n",
        "$$\n",
        "A =   \\left(\n",
        "   \\begin{array}{ccc}\n",
        "    1/2 & 0 & 1/3 \\\\\n",
        "    1/2 & 1/2 & 1/2 \\\\\n",
        "    0 & 1/2 & 1/6\n",
        "   \\end{array}\n",
        "   \\right),\\\n",
        "B =   \\left(\n",
        "   \\begin{array}{ccl}\n",
        "    0.5 & 0 & 0.\\hat{3}\\\\\n",
        "    1 & 0 & 0.1\\hat{6} \\\\\n",
        "    0 & 1 & 0.5\n",
        "   \\end{array}\n",
        "   \\right), \n",
        "C =   \\left(\n",
        "   \\begin{array}{ccc}\n",
        "    1 & 0 & 1/3 \\\\\n",
        "    1/2 & 1/2 & 1/2 \\\\\n",
        "    -1/2 & 1/2 & 1/6\n",
        "   \\end{array}\n",
        "   \\right).\n",
        "$$   "
      ],
      "metadata": {
        "id": "PgEq2mYlo7Ae"
      }
    },
    {
      "cell_type": "code",
      "source": [
        "A = np.array([[1/2, 0, 1/3], [1/2, 1/2, 1/2], [0, 1/2, 1/6]])\n",
        "print(A)"
      ],
      "metadata": {
        "id": "XFE5xR9qpJoK"
      },
      "execution_count": null,
      "outputs": []
    },
    {
      "cell_type": "code",
      "source": [
        "np.sum(A, axis=0)"
      ],
      "metadata": {
        "id": "0-TbRZfcqY6z"
      },
      "execution_count": null,
      "outputs": []
    },
    {
      "cell_type": "code",
      "source": [
        "sum(A)"
      ],
      "metadata": {
        "id": "_7fB2uBAqcBn"
      },
      "execution_count": null,
      "outputs": []
    },
    {
      "cell_type": "markdown",
      "source": [
        "## **Procesos de Markov**"
      ],
      "metadata": {
        "id": "eAN_vXsyQiJG"
      }
    },
    {
      "cell_type": "markdown",
      "source": [
        "$A$: matriz de Markov o matriz de transición.  \n",
        "\n",
        "$v(0)=(v_1(0),...,v_n(0))$: Estado inicial.\n",
        "\n",
        "\\begin{align}\n",
        "v(1)&=Av(0)\\\\\n",
        "v(2)&=Av(1)\\\\\n",
        "&\\vdots\\\\\n",
        "v(k)&=Av(k-1)\n",
        "\\end{align}\n",
        "\n",
        "$$\\Rightarrow v(k)=A^kv(0)$$"
      ],
      "metadata": {
        "id": "_XUYHltUQnyH"
      }
    },
    {
      "cell_type": "markdown",
      "source": [
        "**Ejercicio:** La población de un país (que suponemos que se mantiene constante en el tiempo) se desplaza entre 2 regiones: Norte ($N$) y sur ($S$). Cada año se estima que el $2\\%$ de $S$ van a $N$ y el $5\\%$ de $N$ van a $S$. Estimar el estado de la población al cabo de $k=1,2,3..$ años, sabiendo que en la actualidad ($k=0$) viven $6.000.000$ de personas en $N$ y $8.000.000$ en $S$. "
      ],
      "metadata": {
        "id": "mGFBg5GeR_4g"
      }
    },
    {
      "cell_type": "code",
      "source": [
        "#completar"
      ],
      "metadata": {
        "id": "D9LW_RNZYO9-"
      },
      "execution_count": null,
      "outputs": []
    },
    {
      "cell_type": "markdown",
      "source": [
        "## **Estados de Equilibrio**"
      ],
      "metadata": {
        "id": "STb9FZHvb6L1"
      }
    },
    {
      "cell_type": "markdown",
      "source": [
        "Encontrar $v$ tal que $Av=v$.\n",
        "\n",
        "**Obs.:** $v$ es autovector de autovalor $1$.\n",
        "\n",
        "**Prop.:** Si $A$ es una matriz de Markov, $λ = 1$ es autovalor."
      ],
      "metadata": {
        "id": "pBLl5tPGcNOh"
      }
    },
    {
      "cell_type": "markdown",
      "source": [
        "**Ejercicio:** Sea $A=\\bigl(\\begin{smallmatrix}2/3 & 1/4\\\\ 1/3 & 3/4\\end{smallmatrix}\\bigr)$ la matriz de transición de un proceso de Markov. ¿Existe algún punto de equilibio?"
      ],
      "metadata": {
        "id": "uOjtibwddDYm"
      }
    },
    {
      "cell_type": "code",
      "source": [
        "A=np.array([[2/3,1/4],[1/3,3/4]])\n",
        "#seguir"
      ],
      "metadata": {
        "id": "dU3eOwlPqlEs"
      },
      "execution_count": null,
      "outputs": []
    },
    {
      "cell_type": "code",
      "source": [
        "##"
      ],
      "metadata": {
        "id": "PUp0Oouwqnx8"
      },
      "execution_count": null,
      "outputs": []
    },
    {
      "cell_type": "code",
      "source": [
        "# Hacemos todas las coordenadas positivas\n"
      ],
      "metadata": {
        "id": "XCybFTrkqqFy"
      },
      "execution_count": null,
      "outputs": []
    },
    {
      "cell_type": "code",
      "source": [
        "# Verificamos\n"
      ],
      "metadata": {
        "id": "VswXQJL8qtlK"
      },
      "execution_count": null,
      "outputs": []
    },
    {
      "cell_type": "markdown",
      "source": [
        "Hallar un estado estacionario $v$ tal que $\\|v\\|_1 = 1$ (y todas sus coordenadas sean no-negativas)."
      ],
      "metadata": {
        "id": "7eRFRo6OqwJ8"
      }
    },
    {
      "cell_type": "code",
      "source": [
        "# Dividimos por la norma 1"
      ],
      "metadata": {
        "id": "F0B8hGzoq0ZK"
      },
      "execution_count": null,
      "outputs": []
    },
    {
      "cell_type": "markdown",
      "source": [
        "Para un vector aleatorio $u_0$ tal que $\\|u_0\\|_1 = 1$, verificar que $A^n u_0 \\rightarrow v$ cuando $n \\rightarrow \\infty$, para cierto $\\lambda \\in R$."
      ],
      "metadata": {
        "id": "ryvhonDbq3Zq"
      }
    },
    {
      "cell_type": "code",
      "source": [
        "####"
      ],
      "metadata": {
        "id": "H7W92Hc9q7l6"
      },
      "execution_count": null,
      "outputs": []
    },
    {
      "cell_type": "code",
      "source": [
        "###"
      ],
      "metadata": {
        "id": "4VtXMt3rq9bY"
      },
      "execution_count": null,
      "outputs": []
    }
  ]
}